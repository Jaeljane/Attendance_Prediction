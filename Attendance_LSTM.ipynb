{
  "nbformat": 4,
  "nbformat_minor": 0,
  "metadata": {
    "colab": {
      "provenance": [],
      "authorship_tag": "ABX9TyONEgCxFt1G0E3O3VSSUcmI",
      "include_colab_link": true
    },
    "kernelspec": {
      "name": "python3",
      "display_name": "Python 3"
    },
    "language_info": {
      "name": "python"
    }
  },
  "cells": [
    {
      "cell_type": "markdown",
      "metadata": {
        "id": "view-in-github",
        "colab_type": "text"
      },
      "source": [
        "<a href=\"https://colab.research.google.com/github/Jaeljane/Attendance_Prediction/blob/main/Attendance_LSTM.ipynb\" target=\"_parent\"><img src=\"https://colab.research.google.com/assets/colab-badge.svg\" alt=\"Open In Colab\"/></a>"
      ]
    },
    {
      "cell_type": "code",
      "execution_count": 46,
      "metadata": {
        "id": "ZV_m2d5ptZl9"
      },
      "outputs": [],
      "source": [
        "import pandas as pd\n",
        "import numpy as np"
      ]
    },
    {
      "cell_type": "markdown",
      "source": [
        "###Data Import"
      ],
      "metadata": {
        "id": "TgX1v7Du6tP_"
      }
    },
    {
      "cell_type": "code",
      "source": [
        "data=pd.read_csv('/Attendance_2.csv', encoding='utf-8')\n",
        "df=data.copy()\n",
        "print(df.shape)\n",
        "df.head()"
      ],
      "metadata": {
        "colab": {
          "base_uri": "https://localhost:8080/",
          "height": 330
        },
        "id": "tmzbEYwLtyhy",
        "outputId": "a17859f1-c071-4ce6-b04c-b6a3508184f9"
      },
      "execution_count": 47,
      "outputs": [
        {
          "output_type": "stream",
          "name": "stdout",
          "text": [
            "(21238, 12)\n"
          ]
        },
        {
          "output_type": "execute_result",
          "data": {
            "text/plain": [
              "         date       day  shift attendance        Reasons Employee_Id  Team  \\\n",
              "0  05/10/2023  Thursday    Day    Present  Other Reasons        A001  T001   \n",
              "1  05/10/2023  Thursday    Day    Present  Other Reasons        A002  T001   \n",
              "2  05/10/2023  Thursday    Day    Present  Other Reasons        A003  T002   \n",
              "3  05/10/2023  Thursday    Day    Present  Other Reasons        A004  T003   \n",
              "4  05/10/2023  Thursday  Night    Present  Other Reasons        A005  T004   \n",
              "\n",
              "   Tenure Month  Week_Numb Holiday          Holiday_Association  \n",
              "0    >24M   Oct          1      NH  Not_assosiated_with_Holiday  \n",
              "1  12-24M   Oct          1      NH  Not_assosiated_with_Holiday  \n",
              "2    >24M   Oct          1      NH  Not_assosiated_with_Holiday  \n",
              "3    >24M   Oct          1      NH  Not_assosiated_with_Holiday  \n",
              "4  12-24M   Oct          1      NH  Not_assosiated_with_Holiday  "
            ],
            "text/html": [
              "\n",
              "  <div id=\"df-f4c23fed-1eac-4fc1-9eef-31dba5083e13\" class=\"colab-df-container\">\n",
              "    <div>\n",
              "<style scoped>\n",
              "    .dataframe tbody tr th:only-of-type {\n",
              "        vertical-align: middle;\n",
              "    }\n",
              "\n",
              "    .dataframe tbody tr th {\n",
              "        vertical-align: top;\n",
              "    }\n",
              "\n",
              "    .dataframe thead th {\n",
              "        text-align: right;\n",
              "    }\n",
              "</style>\n",
              "<table border=\"1\" class=\"dataframe\">\n",
              "  <thead>\n",
              "    <tr style=\"text-align: right;\">\n",
              "      <th></th>\n",
              "      <th>date</th>\n",
              "      <th>day</th>\n",
              "      <th>shift</th>\n",
              "      <th>attendance</th>\n",
              "      <th>Reasons</th>\n",
              "      <th>Employee_Id</th>\n",
              "      <th>Team</th>\n",
              "      <th>Tenure</th>\n",
              "      <th>Month</th>\n",
              "      <th>Week_Numb</th>\n",
              "      <th>Holiday</th>\n",
              "      <th>Holiday_Association</th>\n",
              "    </tr>\n",
              "  </thead>\n",
              "  <tbody>\n",
              "    <tr>\n",
              "      <th>0</th>\n",
              "      <td>05/10/2023</td>\n",
              "      <td>Thursday</td>\n",
              "      <td>Day</td>\n",
              "      <td>Present</td>\n",
              "      <td>Other Reasons</td>\n",
              "      <td>A001</td>\n",
              "      <td>T001</td>\n",
              "      <td>&gt;24M</td>\n",
              "      <td>Oct</td>\n",
              "      <td>1</td>\n",
              "      <td>NH</td>\n",
              "      <td>Not_assosiated_with_Holiday</td>\n",
              "    </tr>\n",
              "    <tr>\n",
              "      <th>1</th>\n",
              "      <td>05/10/2023</td>\n",
              "      <td>Thursday</td>\n",
              "      <td>Day</td>\n",
              "      <td>Present</td>\n",
              "      <td>Other Reasons</td>\n",
              "      <td>A002</td>\n",
              "      <td>T001</td>\n",
              "      <td>12-24M</td>\n",
              "      <td>Oct</td>\n",
              "      <td>1</td>\n",
              "      <td>NH</td>\n",
              "      <td>Not_assosiated_with_Holiday</td>\n",
              "    </tr>\n",
              "    <tr>\n",
              "      <th>2</th>\n",
              "      <td>05/10/2023</td>\n",
              "      <td>Thursday</td>\n",
              "      <td>Day</td>\n",
              "      <td>Present</td>\n",
              "      <td>Other Reasons</td>\n",
              "      <td>A003</td>\n",
              "      <td>T002</td>\n",
              "      <td>&gt;24M</td>\n",
              "      <td>Oct</td>\n",
              "      <td>1</td>\n",
              "      <td>NH</td>\n",
              "      <td>Not_assosiated_with_Holiday</td>\n",
              "    </tr>\n",
              "    <tr>\n",
              "      <th>3</th>\n",
              "      <td>05/10/2023</td>\n",
              "      <td>Thursday</td>\n",
              "      <td>Day</td>\n",
              "      <td>Present</td>\n",
              "      <td>Other Reasons</td>\n",
              "      <td>A004</td>\n",
              "      <td>T003</td>\n",
              "      <td>&gt;24M</td>\n",
              "      <td>Oct</td>\n",
              "      <td>1</td>\n",
              "      <td>NH</td>\n",
              "      <td>Not_assosiated_with_Holiday</td>\n",
              "    </tr>\n",
              "    <tr>\n",
              "      <th>4</th>\n",
              "      <td>05/10/2023</td>\n",
              "      <td>Thursday</td>\n",
              "      <td>Night</td>\n",
              "      <td>Present</td>\n",
              "      <td>Other Reasons</td>\n",
              "      <td>A005</td>\n",
              "      <td>T004</td>\n",
              "      <td>12-24M</td>\n",
              "      <td>Oct</td>\n",
              "      <td>1</td>\n",
              "      <td>NH</td>\n",
              "      <td>Not_assosiated_with_Holiday</td>\n",
              "    </tr>\n",
              "  </tbody>\n",
              "</table>\n",
              "</div>\n",
              "    <div class=\"colab-df-buttons\">\n",
              "\n",
              "  <div class=\"colab-df-container\">\n",
              "    <button class=\"colab-df-convert\" onclick=\"convertToInteractive('df-f4c23fed-1eac-4fc1-9eef-31dba5083e13')\"\n",
              "            title=\"Convert this dataframe to an interactive table.\"\n",
              "            style=\"display:none;\">\n",
              "\n",
              "  <svg xmlns=\"http://www.w3.org/2000/svg\" height=\"24px\" viewBox=\"0 -960 960 960\">\n",
              "    <path d=\"M120-120v-720h720v720H120Zm60-500h600v-160H180v160Zm220 220h160v-160H400v160Zm0 220h160v-160H400v160ZM180-400h160v-160H180v160Zm440 0h160v-160H620v160ZM180-180h160v-160H180v160Zm440 0h160v-160H620v160Z\"/>\n",
              "  </svg>\n",
              "    </button>\n",
              "\n",
              "  <style>\n",
              "    .colab-df-container {\n",
              "      display:flex;\n",
              "      gap: 12px;\n",
              "    }\n",
              "\n",
              "    .colab-df-convert {\n",
              "      background-color: #E8F0FE;\n",
              "      border: none;\n",
              "      border-radius: 50%;\n",
              "      cursor: pointer;\n",
              "      display: none;\n",
              "      fill: #1967D2;\n",
              "      height: 32px;\n",
              "      padding: 0 0 0 0;\n",
              "      width: 32px;\n",
              "    }\n",
              "\n",
              "    .colab-df-convert:hover {\n",
              "      background-color: #E2EBFA;\n",
              "      box-shadow: 0px 1px 2px rgba(60, 64, 67, 0.3), 0px 1px 3px 1px rgba(60, 64, 67, 0.15);\n",
              "      fill: #174EA6;\n",
              "    }\n",
              "\n",
              "    .colab-df-buttons div {\n",
              "      margin-bottom: 4px;\n",
              "    }\n",
              "\n",
              "    [theme=dark] .colab-df-convert {\n",
              "      background-color: #3B4455;\n",
              "      fill: #D2E3FC;\n",
              "    }\n",
              "\n",
              "    [theme=dark] .colab-df-convert:hover {\n",
              "      background-color: #434B5C;\n",
              "      box-shadow: 0px 1px 3px 1px rgba(0, 0, 0, 0.15);\n",
              "      filter: drop-shadow(0px 1px 2px rgba(0, 0, 0, 0.3));\n",
              "      fill: #FFFFFF;\n",
              "    }\n",
              "  </style>\n",
              "\n",
              "    <script>\n",
              "      const buttonEl =\n",
              "        document.querySelector('#df-f4c23fed-1eac-4fc1-9eef-31dba5083e13 button.colab-df-convert');\n",
              "      buttonEl.style.display =\n",
              "        google.colab.kernel.accessAllowed ? 'block' : 'none';\n",
              "\n",
              "      async function convertToInteractive(key) {\n",
              "        const element = document.querySelector('#df-f4c23fed-1eac-4fc1-9eef-31dba5083e13');\n",
              "        const dataTable =\n",
              "          await google.colab.kernel.invokeFunction('convertToInteractive',\n",
              "                                                    [key], {});\n",
              "        if (!dataTable) return;\n",
              "\n",
              "        const docLinkHtml = 'Like what you see? Visit the ' +\n",
              "          '<a target=\"_blank\" href=https://colab.research.google.com/notebooks/data_table.ipynb>data table notebook</a>'\n",
              "          + ' to learn more about interactive tables.';\n",
              "        element.innerHTML = '';\n",
              "        dataTable['output_type'] = 'display_data';\n",
              "        await google.colab.output.renderOutput(dataTable, element);\n",
              "        const docLink = document.createElement('div');\n",
              "        docLink.innerHTML = docLinkHtml;\n",
              "        element.appendChild(docLink);\n",
              "      }\n",
              "    </script>\n",
              "  </div>\n",
              "\n",
              "\n",
              "<div id=\"df-c3eafcc9-792b-4f7e-9192-061c47f72157\">\n",
              "  <button class=\"colab-df-quickchart\" onclick=\"quickchart('df-c3eafcc9-792b-4f7e-9192-061c47f72157')\"\n",
              "            title=\"Suggest charts.\"\n",
              "            style=\"display:none;\">\n",
              "\n",
              "<svg xmlns=\"http://www.w3.org/2000/svg\" height=\"24px\"viewBox=\"0 0 24 24\"\n",
              "     width=\"24px\">\n",
              "    <g>\n",
              "        <path d=\"M19 3H5c-1.1 0-2 .9-2 2v14c0 1.1.9 2 2 2h14c1.1 0 2-.9 2-2V5c0-1.1-.9-2-2-2zM9 17H7v-7h2v7zm4 0h-2V7h2v10zm4 0h-2v-4h2v4z\"/>\n",
              "    </g>\n",
              "</svg>\n",
              "  </button>\n",
              "\n",
              "<style>\n",
              "  .colab-df-quickchart {\n",
              "      --bg-color: #E8F0FE;\n",
              "      --fill-color: #1967D2;\n",
              "      --hover-bg-color: #E2EBFA;\n",
              "      --hover-fill-color: #174EA6;\n",
              "      --disabled-fill-color: #AAA;\n",
              "      --disabled-bg-color: #DDD;\n",
              "  }\n",
              "\n",
              "  [theme=dark] .colab-df-quickchart {\n",
              "      --bg-color: #3B4455;\n",
              "      --fill-color: #D2E3FC;\n",
              "      --hover-bg-color: #434B5C;\n",
              "      --hover-fill-color: #FFFFFF;\n",
              "      --disabled-bg-color: #3B4455;\n",
              "      --disabled-fill-color: #666;\n",
              "  }\n",
              "\n",
              "  .colab-df-quickchart {\n",
              "    background-color: var(--bg-color);\n",
              "    border: none;\n",
              "    border-radius: 50%;\n",
              "    cursor: pointer;\n",
              "    display: none;\n",
              "    fill: var(--fill-color);\n",
              "    height: 32px;\n",
              "    padding: 0;\n",
              "    width: 32px;\n",
              "  }\n",
              "\n",
              "  .colab-df-quickchart:hover {\n",
              "    background-color: var(--hover-bg-color);\n",
              "    box-shadow: 0 1px 2px rgba(60, 64, 67, 0.3), 0 1px 3px 1px rgba(60, 64, 67, 0.15);\n",
              "    fill: var(--button-hover-fill-color);\n",
              "  }\n",
              "\n",
              "  .colab-df-quickchart-complete:disabled,\n",
              "  .colab-df-quickchart-complete:disabled:hover {\n",
              "    background-color: var(--disabled-bg-color);\n",
              "    fill: var(--disabled-fill-color);\n",
              "    box-shadow: none;\n",
              "  }\n",
              "\n",
              "  .colab-df-spinner {\n",
              "    border: 2px solid var(--fill-color);\n",
              "    border-color: transparent;\n",
              "    border-bottom-color: var(--fill-color);\n",
              "    animation:\n",
              "      spin 1s steps(1) infinite;\n",
              "  }\n",
              "\n",
              "  @keyframes spin {\n",
              "    0% {\n",
              "      border-color: transparent;\n",
              "      border-bottom-color: var(--fill-color);\n",
              "      border-left-color: var(--fill-color);\n",
              "    }\n",
              "    20% {\n",
              "      border-color: transparent;\n",
              "      border-left-color: var(--fill-color);\n",
              "      border-top-color: var(--fill-color);\n",
              "    }\n",
              "    30% {\n",
              "      border-color: transparent;\n",
              "      border-left-color: var(--fill-color);\n",
              "      border-top-color: var(--fill-color);\n",
              "      border-right-color: var(--fill-color);\n",
              "    }\n",
              "    40% {\n",
              "      border-color: transparent;\n",
              "      border-right-color: var(--fill-color);\n",
              "      border-top-color: var(--fill-color);\n",
              "    }\n",
              "    60% {\n",
              "      border-color: transparent;\n",
              "      border-right-color: var(--fill-color);\n",
              "    }\n",
              "    80% {\n",
              "      border-color: transparent;\n",
              "      border-right-color: var(--fill-color);\n",
              "      border-bottom-color: var(--fill-color);\n",
              "    }\n",
              "    90% {\n",
              "      border-color: transparent;\n",
              "      border-bottom-color: var(--fill-color);\n",
              "    }\n",
              "  }\n",
              "</style>\n",
              "\n",
              "  <script>\n",
              "    async function quickchart(key) {\n",
              "      const quickchartButtonEl =\n",
              "        document.querySelector('#' + key + ' button');\n",
              "      quickchartButtonEl.disabled = true;  // To prevent multiple clicks.\n",
              "      quickchartButtonEl.classList.add('colab-df-spinner');\n",
              "      try {\n",
              "        const charts = await google.colab.kernel.invokeFunction(\n",
              "            'suggestCharts', [key], {});\n",
              "      } catch (error) {\n",
              "        console.error('Error during call to suggestCharts:', error);\n",
              "      }\n",
              "      quickchartButtonEl.classList.remove('colab-df-spinner');\n",
              "      quickchartButtonEl.classList.add('colab-df-quickchart-complete');\n",
              "    }\n",
              "    (() => {\n",
              "      let quickchartButtonEl =\n",
              "        document.querySelector('#df-c3eafcc9-792b-4f7e-9192-061c47f72157 button');\n",
              "      quickchartButtonEl.style.display =\n",
              "        google.colab.kernel.accessAllowed ? 'block' : 'none';\n",
              "    })();\n",
              "  </script>\n",
              "</div>\n",
              "    </div>\n",
              "  </div>\n"
            ]
          },
          "metadata": {},
          "execution_count": 47
        }
      ]
    },
    {
      "cell_type": "code",
      "source": [
        "df.info()"
      ],
      "metadata": {
        "colab": {
          "base_uri": "https://localhost:8080/"
        },
        "id": "ipEPr9hru1IY",
        "outputId": "8566942f-002a-4343-b4f1-8b2731b12efd"
      },
      "execution_count": 48,
      "outputs": [
        {
          "output_type": "stream",
          "name": "stdout",
          "text": [
            "<class 'pandas.core.frame.DataFrame'>\n",
            "RangeIndex: 21238 entries, 0 to 21237\n",
            "Data columns (total 12 columns):\n",
            " #   Column               Non-Null Count  Dtype \n",
            "---  ------               --------------  ----- \n",
            " 0   date                 21238 non-null  object\n",
            " 1   day                  21237 non-null  object\n",
            " 2   shift                21238 non-null  object\n",
            " 3   attendance           21238 non-null  object\n",
            " 4   Reasons              21238 non-null  object\n",
            " 5   Employee_Id          21238 non-null  object\n",
            " 6   Team                 21238 non-null  object\n",
            " 7   Tenure               21132 non-null  object\n",
            " 8   Month                21238 non-null  object\n",
            " 9   Week_Numb            21238 non-null  int64 \n",
            " 10  Holiday              21238 non-null  object\n",
            " 11  Holiday_Association  15625 non-null  object\n",
            "dtypes: int64(1), object(11)\n",
            "memory usage: 1.9+ MB\n"
          ]
        }
      ]
    },
    {
      "cell_type": "code",
      "source": [
        "df['date']=pd.to_datetime(df['date'],format='%d/%m/%Y')\n",
        "df.tail()"
      ],
      "metadata": {
        "colab": {
          "base_uri": "https://localhost:8080/",
          "height": 313
        },
        "id": "WvLWdOCNu1Up",
        "outputId": "8b0795b8-2a3e-4adc-a42f-00ebaca2452a"
      },
      "execution_count": 49,
      "outputs": [
        {
          "output_type": "execute_result",
          "data": {
            "text/plain": [
              "            date       day shift attendance        Reasons Employee_Id  Team  \\\n",
              "21233 2023-02-02  Thursday   Day    Present  Other Reasons        A033  T004   \n",
              "21234 2023-02-02  Thursday   Day    Present  Other Reasons        A037  T013   \n",
              "21235 2023-02-02  Thursday   Day    Present  Other Reasons        A082  T017   \n",
              "21236 2023-02-02  Thursday   Day    Present  Other Reasons        A027  T015   \n",
              "21237 2023-02-02  Thursday   Day    Present  Other Reasons        A090  T013   \n",
              "\n",
              "      Tenure Month  Week_Numb Holiday Holiday_Association  \n",
              "21233   >24M   Feb          1      NH                 NaN  \n",
              "21234   >24M   Feb          1      NH                 NaN  \n",
              "21235   >24M   Feb          1      NH                 NaN  \n",
              "21236   >24M   Feb          1      NH                 NaN  \n",
              "21237   >24M   Feb          1      NH                 NaN  "
            ],
            "text/html": [
              "\n",
              "  <div id=\"df-033d345b-7ef9-4fad-9c22-44a88cee57c1\" class=\"colab-df-container\">\n",
              "    <div>\n",
              "<style scoped>\n",
              "    .dataframe tbody tr th:only-of-type {\n",
              "        vertical-align: middle;\n",
              "    }\n",
              "\n",
              "    .dataframe tbody tr th {\n",
              "        vertical-align: top;\n",
              "    }\n",
              "\n",
              "    .dataframe thead th {\n",
              "        text-align: right;\n",
              "    }\n",
              "</style>\n",
              "<table border=\"1\" class=\"dataframe\">\n",
              "  <thead>\n",
              "    <tr style=\"text-align: right;\">\n",
              "      <th></th>\n",
              "      <th>date</th>\n",
              "      <th>day</th>\n",
              "      <th>shift</th>\n",
              "      <th>attendance</th>\n",
              "      <th>Reasons</th>\n",
              "      <th>Employee_Id</th>\n",
              "      <th>Team</th>\n",
              "      <th>Tenure</th>\n",
              "      <th>Month</th>\n",
              "      <th>Week_Numb</th>\n",
              "      <th>Holiday</th>\n",
              "      <th>Holiday_Association</th>\n",
              "    </tr>\n",
              "  </thead>\n",
              "  <tbody>\n",
              "    <tr>\n",
              "      <th>21233</th>\n",
              "      <td>2023-02-02</td>\n",
              "      <td>Thursday</td>\n",
              "      <td>Day</td>\n",
              "      <td>Present</td>\n",
              "      <td>Other Reasons</td>\n",
              "      <td>A033</td>\n",
              "      <td>T004</td>\n",
              "      <td>&gt;24M</td>\n",
              "      <td>Feb</td>\n",
              "      <td>1</td>\n",
              "      <td>NH</td>\n",
              "      <td>NaN</td>\n",
              "    </tr>\n",
              "    <tr>\n",
              "      <th>21234</th>\n",
              "      <td>2023-02-02</td>\n",
              "      <td>Thursday</td>\n",
              "      <td>Day</td>\n",
              "      <td>Present</td>\n",
              "      <td>Other Reasons</td>\n",
              "      <td>A037</td>\n",
              "      <td>T013</td>\n",
              "      <td>&gt;24M</td>\n",
              "      <td>Feb</td>\n",
              "      <td>1</td>\n",
              "      <td>NH</td>\n",
              "      <td>NaN</td>\n",
              "    </tr>\n",
              "    <tr>\n",
              "      <th>21235</th>\n",
              "      <td>2023-02-02</td>\n",
              "      <td>Thursday</td>\n",
              "      <td>Day</td>\n",
              "      <td>Present</td>\n",
              "      <td>Other Reasons</td>\n",
              "      <td>A082</td>\n",
              "      <td>T017</td>\n",
              "      <td>&gt;24M</td>\n",
              "      <td>Feb</td>\n",
              "      <td>1</td>\n",
              "      <td>NH</td>\n",
              "      <td>NaN</td>\n",
              "    </tr>\n",
              "    <tr>\n",
              "      <th>21236</th>\n",
              "      <td>2023-02-02</td>\n",
              "      <td>Thursday</td>\n",
              "      <td>Day</td>\n",
              "      <td>Present</td>\n",
              "      <td>Other Reasons</td>\n",
              "      <td>A027</td>\n",
              "      <td>T015</td>\n",
              "      <td>&gt;24M</td>\n",
              "      <td>Feb</td>\n",
              "      <td>1</td>\n",
              "      <td>NH</td>\n",
              "      <td>NaN</td>\n",
              "    </tr>\n",
              "    <tr>\n",
              "      <th>21237</th>\n",
              "      <td>2023-02-02</td>\n",
              "      <td>Thursday</td>\n",
              "      <td>Day</td>\n",
              "      <td>Present</td>\n",
              "      <td>Other Reasons</td>\n",
              "      <td>A090</td>\n",
              "      <td>T013</td>\n",
              "      <td>&gt;24M</td>\n",
              "      <td>Feb</td>\n",
              "      <td>1</td>\n",
              "      <td>NH</td>\n",
              "      <td>NaN</td>\n",
              "    </tr>\n",
              "  </tbody>\n",
              "</table>\n",
              "</div>\n",
              "    <div class=\"colab-df-buttons\">\n",
              "\n",
              "  <div class=\"colab-df-container\">\n",
              "    <button class=\"colab-df-convert\" onclick=\"convertToInteractive('df-033d345b-7ef9-4fad-9c22-44a88cee57c1')\"\n",
              "            title=\"Convert this dataframe to an interactive table.\"\n",
              "            style=\"display:none;\">\n",
              "\n",
              "  <svg xmlns=\"http://www.w3.org/2000/svg\" height=\"24px\" viewBox=\"0 -960 960 960\">\n",
              "    <path d=\"M120-120v-720h720v720H120Zm60-500h600v-160H180v160Zm220 220h160v-160H400v160Zm0 220h160v-160H400v160ZM180-400h160v-160H180v160Zm440 0h160v-160H620v160ZM180-180h160v-160H180v160Zm440 0h160v-160H620v160Z\"/>\n",
              "  </svg>\n",
              "    </button>\n",
              "\n",
              "  <style>\n",
              "    .colab-df-container {\n",
              "      display:flex;\n",
              "      gap: 12px;\n",
              "    }\n",
              "\n",
              "    .colab-df-convert {\n",
              "      background-color: #E8F0FE;\n",
              "      border: none;\n",
              "      border-radius: 50%;\n",
              "      cursor: pointer;\n",
              "      display: none;\n",
              "      fill: #1967D2;\n",
              "      height: 32px;\n",
              "      padding: 0 0 0 0;\n",
              "      width: 32px;\n",
              "    }\n",
              "\n",
              "    .colab-df-convert:hover {\n",
              "      background-color: #E2EBFA;\n",
              "      box-shadow: 0px 1px 2px rgba(60, 64, 67, 0.3), 0px 1px 3px 1px rgba(60, 64, 67, 0.15);\n",
              "      fill: #174EA6;\n",
              "    }\n",
              "\n",
              "    .colab-df-buttons div {\n",
              "      margin-bottom: 4px;\n",
              "    }\n",
              "\n",
              "    [theme=dark] .colab-df-convert {\n",
              "      background-color: #3B4455;\n",
              "      fill: #D2E3FC;\n",
              "    }\n",
              "\n",
              "    [theme=dark] .colab-df-convert:hover {\n",
              "      background-color: #434B5C;\n",
              "      box-shadow: 0px 1px 3px 1px rgba(0, 0, 0, 0.15);\n",
              "      filter: drop-shadow(0px 1px 2px rgba(0, 0, 0, 0.3));\n",
              "      fill: #FFFFFF;\n",
              "    }\n",
              "  </style>\n",
              "\n",
              "    <script>\n",
              "      const buttonEl =\n",
              "        document.querySelector('#df-033d345b-7ef9-4fad-9c22-44a88cee57c1 button.colab-df-convert');\n",
              "      buttonEl.style.display =\n",
              "        google.colab.kernel.accessAllowed ? 'block' : 'none';\n",
              "\n",
              "      async function convertToInteractive(key) {\n",
              "        const element = document.querySelector('#df-033d345b-7ef9-4fad-9c22-44a88cee57c1');\n",
              "        const dataTable =\n",
              "          await google.colab.kernel.invokeFunction('convertToInteractive',\n",
              "                                                    [key], {});\n",
              "        if (!dataTable) return;\n",
              "\n",
              "        const docLinkHtml = 'Like what you see? Visit the ' +\n",
              "          '<a target=\"_blank\" href=https://colab.research.google.com/notebooks/data_table.ipynb>data table notebook</a>'\n",
              "          + ' to learn more about interactive tables.';\n",
              "        element.innerHTML = '';\n",
              "        dataTable['output_type'] = 'display_data';\n",
              "        await google.colab.output.renderOutput(dataTable, element);\n",
              "        const docLink = document.createElement('div');\n",
              "        docLink.innerHTML = docLinkHtml;\n",
              "        element.appendChild(docLink);\n",
              "      }\n",
              "    </script>\n",
              "  </div>\n",
              "\n",
              "\n",
              "<div id=\"df-96e57dc8-4b8a-4e6d-9116-19e014a51f39\">\n",
              "  <button class=\"colab-df-quickchart\" onclick=\"quickchart('df-96e57dc8-4b8a-4e6d-9116-19e014a51f39')\"\n",
              "            title=\"Suggest charts.\"\n",
              "            style=\"display:none;\">\n",
              "\n",
              "<svg xmlns=\"http://www.w3.org/2000/svg\" height=\"24px\"viewBox=\"0 0 24 24\"\n",
              "     width=\"24px\">\n",
              "    <g>\n",
              "        <path d=\"M19 3H5c-1.1 0-2 .9-2 2v14c0 1.1.9 2 2 2h14c1.1 0 2-.9 2-2V5c0-1.1-.9-2-2-2zM9 17H7v-7h2v7zm4 0h-2V7h2v10zm4 0h-2v-4h2v4z\"/>\n",
              "    </g>\n",
              "</svg>\n",
              "  </button>\n",
              "\n",
              "<style>\n",
              "  .colab-df-quickchart {\n",
              "      --bg-color: #E8F0FE;\n",
              "      --fill-color: #1967D2;\n",
              "      --hover-bg-color: #E2EBFA;\n",
              "      --hover-fill-color: #174EA6;\n",
              "      --disabled-fill-color: #AAA;\n",
              "      --disabled-bg-color: #DDD;\n",
              "  }\n",
              "\n",
              "  [theme=dark] .colab-df-quickchart {\n",
              "      --bg-color: #3B4455;\n",
              "      --fill-color: #D2E3FC;\n",
              "      --hover-bg-color: #434B5C;\n",
              "      --hover-fill-color: #FFFFFF;\n",
              "      --disabled-bg-color: #3B4455;\n",
              "      --disabled-fill-color: #666;\n",
              "  }\n",
              "\n",
              "  .colab-df-quickchart {\n",
              "    background-color: var(--bg-color);\n",
              "    border: none;\n",
              "    border-radius: 50%;\n",
              "    cursor: pointer;\n",
              "    display: none;\n",
              "    fill: var(--fill-color);\n",
              "    height: 32px;\n",
              "    padding: 0;\n",
              "    width: 32px;\n",
              "  }\n",
              "\n",
              "  .colab-df-quickchart:hover {\n",
              "    background-color: var(--hover-bg-color);\n",
              "    box-shadow: 0 1px 2px rgba(60, 64, 67, 0.3), 0 1px 3px 1px rgba(60, 64, 67, 0.15);\n",
              "    fill: var(--button-hover-fill-color);\n",
              "  }\n",
              "\n",
              "  .colab-df-quickchart-complete:disabled,\n",
              "  .colab-df-quickchart-complete:disabled:hover {\n",
              "    background-color: var(--disabled-bg-color);\n",
              "    fill: var(--disabled-fill-color);\n",
              "    box-shadow: none;\n",
              "  }\n",
              "\n",
              "  .colab-df-spinner {\n",
              "    border: 2px solid var(--fill-color);\n",
              "    border-color: transparent;\n",
              "    border-bottom-color: var(--fill-color);\n",
              "    animation:\n",
              "      spin 1s steps(1) infinite;\n",
              "  }\n",
              "\n",
              "  @keyframes spin {\n",
              "    0% {\n",
              "      border-color: transparent;\n",
              "      border-bottom-color: var(--fill-color);\n",
              "      border-left-color: var(--fill-color);\n",
              "    }\n",
              "    20% {\n",
              "      border-color: transparent;\n",
              "      border-left-color: var(--fill-color);\n",
              "      border-top-color: var(--fill-color);\n",
              "    }\n",
              "    30% {\n",
              "      border-color: transparent;\n",
              "      border-left-color: var(--fill-color);\n",
              "      border-top-color: var(--fill-color);\n",
              "      border-right-color: var(--fill-color);\n",
              "    }\n",
              "    40% {\n",
              "      border-color: transparent;\n",
              "      border-right-color: var(--fill-color);\n",
              "      border-top-color: var(--fill-color);\n",
              "    }\n",
              "    60% {\n",
              "      border-color: transparent;\n",
              "      border-right-color: var(--fill-color);\n",
              "    }\n",
              "    80% {\n",
              "      border-color: transparent;\n",
              "      border-right-color: var(--fill-color);\n",
              "      border-bottom-color: var(--fill-color);\n",
              "    }\n",
              "    90% {\n",
              "      border-color: transparent;\n",
              "      border-bottom-color: var(--fill-color);\n",
              "    }\n",
              "  }\n",
              "</style>\n",
              "\n",
              "  <script>\n",
              "    async function quickchart(key) {\n",
              "      const quickchartButtonEl =\n",
              "        document.querySelector('#' + key + ' button');\n",
              "      quickchartButtonEl.disabled = true;  // To prevent multiple clicks.\n",
              "      quickchartButtonEl.classList.add('colab-df-spinner');\n",
              "      try {\n",
              "        const charts = await google.colab.kernel.invokeFunction(\n",
              "            'suggestCharts', [key], {});\n",
              "      } catch (error) {\n",
              "        console.error('Error during call to suggestCharts:', error);\n",
              "      }\n",
              "      quickchartButtonEl.classList.remove('colab-df-spinner');\n",
              "      quickchartButtonEl.classList.add('colab-df-quickchart-complete');\n",
              "    }\n",
              "    (() => {\n",
              "      let quickchartButtonEl =\n",
              "        document.querySelector('#df-96e57dc8-4b8a-4e6d-9116-19e014a51f39 button');\n",
              "      quickchartButtonEl.style.display =\n",
              "        google.colab.kernel.accessAllowed ? 'block' : 'none';\n",
              "    })();\n",
              "  </script>\n",
              "</div>\n",
              "    </div>\n",
              "  </div>\n"
            ]
          },
          "metadata": {},
          "execution_count": 49
        }
      ]
    },
    {
      "cell_type": "markdown",
      "source": [
        "###EDA"
      ],
      "metadata": {
        "id": "wCkkKuQ_6kEc"
      }
    },
    {
      "cell_type": "code",
      "source": [
        "#we are interested in attendance so our main focus will be on those who were present\n",
        "df['attendance'].value_counts()"
      ],
      "metadata": {
        "colab": {
          "base_uri": "https://localhost:8080/"
        },
        "id": "tkUDEyL82gB-",
        "outputId": "42bb2b44-91f2-40ed-9643-14f04d45ac5d"
      },
      "execution_count": 50,
      "outputs": [
        {
          "output_type": "execute_result",
          "data": {
            "text/plain": [
              "Present        19162\n",
              "PTO             1283\n",
              "Absent           720\n",
              "Unscheduled       73\n",
              "Name: attendance, dtype: int64"
            ]
          },
          "metadata": {},
          "execution_count": 50
        }
      ]
    },
    {
      "cell_type": "code",
      "source": [
        "#select data for only those who were present\n",
        "df_p=df[df['attendance']==\"Present\"]\n",
        "df_p.shape"
      ],
      "metadata": {
        "colab": {
          "base_uri": "https://localhost:8080/"
        },
        "id": "qLRrlyTg7R8W",
        "outputId": "07060b80-4809-4895-c279-d96f1f79bd2c"
      },
      "execution_count": 51,
      "outputs": [
        {
          "output_type": "execute_result",
          "data": {
            "text/plain": [
              "(19162, 12)"
            ]
          },
          "metadata": {},
          "execution_count": 51
        }
      ]
    },
    {
      "cell_type": "code",
      "source": [
        "#add shifts\n",
        "df_p['day'].value_counts().plot(figsize=(8,5),\n",
        "                                         kind=\"bar\", ylabel=\"Atendance\",\n",
        "                                         xlabel=\"Day\",\n",
        "                                         title=\"Attendance trends Per Day of week\" );"
      ],
      "metadata": {
        "colab": {
          "base_uri": "https://localhost:8080/",
          "height": 554
        },
        "id": "HCRpoSzK4aht",
        "outputId": "61e9c562-af0c-4c95-ae12-118aca31a6a8"
      },
      "execution_count": 52,
      "outputs": [
        {
          "output_type": "display_data",
          "data": {
            "text/plain": [
              "<Figure size 800x500 with 1 Axes>"
            ],
            "image/png": "[encoded data removed]"
          },
          "metadata": {}
        }
      ]
    },
    {
      "cell_type": "code",
      "source": [
        "#drop Saturdays cause it is overtime\n",
        "df_p=df_p[df_p['day']!=\"Saturday\"]\n"
      ],
      "metadata": {
        "id": "UmayA5L1ULNI"
      },
      "execution_count": 53,
      "outputs": []
    },
    {
      "cell_type": "code",
      "source": [
        "#check for holidays\n",
        "df_p['Holiday'].value_counts()"
      ],
      "metadata": {
        "colab": {
          "base_uri": "https://localhost:8080/"
        },
        "id": "eih19kWvUdQM",
        "outputId": "969dbaf7-fd61-4f4f-82b9-10931d846a1c"
      },
      "execution_count": 54,
      "outputs": [
        {
          "output_type": "execute_result",
          "data": {
            "text/plain": [
              "NH    18715\n",
              "H       347\n",
              "Name: Holiday, dtype: int64"
            ]
          },
          "metadata": {},
          "execution_count": 54
        }
      ]
    },
    {
      "cell_type": "code",
      "source": [
        "#drop holidays because attendance is voluntary\n",
        "df_p.drop(df_p[df_p['Holiday']=='H'].index, inplace=True)"
      ],
      "metadata": {
        "id": "4Bi-_yLeUmxb"
      },
      "execution_count": 55,
      "outputs": []
    },
    {
      "cell_type": "markdown",
      "source": [
        "saturday has the lowest attendance, this might be work done on overtime, we can remove it if skews the data"
      ],
      "metadata": {
        "id": "DtudNkZo98Ox"
      }
    },
    {
      "cell_type": "code",
      "source": [
        "df_p['shift'].value_counts()"
      ],
      "metadata": {
        "colab": {
          "base_uri": "https://localhost:8080/"
        },
        "id": "VKyHmM8L9fml",
        "outputId": "d67e7017-8ac7-4700-da64-d2f0b13a8ead"
      },
      "execution_count": 33,
      "outputs": [
        {
          "output_type": "execute_result",
          "data": {
            "text/plain": [
              "Day      10687\n",
              "Night     8028\n",
              "Name: shift, dtype: int64"
            ]
          },
          "metadata": {},
          "execution_count": 33
        }
      ]
    },
    {
      "cell_type": "markdown",
      "source": [
        "####Absenteeism"
      ],
      "metadata": {
        "id": "KHJo4fQN_b_a"
      }
    },
    {
      "cell_type": "code",
      "source": [
        "df_a=df[df['attendance']==\"Absent\"]\n",
        "df_a.shape"
      ],
      "metadata": {
        "colab": {
          "base_uri": "https://localhost:8080/"
        },
        "id": "FAv2cnNX-ThZ",
        "outputId": "76d80b3a-c776-496b-f900-ba6c57c2f487"
      },
      "execution_count": 34,
      "outputs": [
        {
          "output_type": "execute_result",
          "data": {
            "text/plain": [
              "(720, 12)"
            ]
          },
          "metadata": {},
          "execution_count": 34
        }
      ]
    },
    {
      "cell_type": "code",
      "source": [
        "#Group absenteeism by reason\n",
        "df_a['day'].value_counts().plot(figsize=(8, 5), kind=\"bar\", ylabel=\"N0. of Abseteeism Cases\",\n",
        "                                xlabel=\"Day of week\",\n",
        "                                title=\"Abseteeism Trends\");"
      ],
      "metadata": {
        "colab": {
          "base_uri": "https://localhost:8080/",
          "height": 554
        },
        "id": "bcAQcj2U_yUc",
        "outputId": "4d6899b3-622b-4cc7-e8b0-5b6b40090f59"
      },
      "execution_count": 35,
      "outputs": [
        {
          "output_type": "display_data",
          "data": {
            "text/plain": [
              "<Figure size 800x500 with 1 Axes>"
            ],
            "image/png": "[encoded data removed]"
          },
          "metadata": {}
        }
      ]
    },
    {
      "cell_type": "code",
      "source": [
        "#Add Absenteeism per Quarter"
      ],
      "metadata": {
        "id": "JqtwgAPOd72O"
      },
      "execution_count": 36,
      "outputs": []
    },
    {
      "cell_type": "code",
      "source": [
        "df_a['Week_Numb'].value_counts(normalize=True).plot(figsize=(8, 5), kind=\"bar\",\n",
        "                                                    ylabel=\"Absenteeism\",\n",
        "                                                    xlabel=\"Number of week in a Month\",\n",
        "                                                    title=\"Absenteeism Trends in a Month\");"
      ],
      "metadata": {
        "colab": {
          "base_uri": "https://localhost:8080/",
          "height": 482
        },
        "id": "bQXzqb4vAFbv",
        "outputId": "5d00517c-df0d-46b7-bc7e-24ab1b25893d"
      },
      "execution_count": 37,
      "outputs": [
        {
          "output_type": "display_data",
          "data": {
            "text/plain": [
              "<Figure size 800x500 with 1 Axes>"
            ],
            "image/png": "[encoded data removed]"
          },
          "metadata": {}
        }
      ]
    },
    {
      "cell_type": "markdown",
      "source": [
        "Since most payweek fall within week 4, it can be expected that there will be a higher number of absenteeism"
      ],
      "metadata": {
        "id": "RlGQg4qBAdxH"
      }
    },
    {
      "cell_type": "code",
      "source": [
        "team_a=df_a['Team'].value_counts()\n"
      ],
      "metadata": {
        "id": "JM8TqLBP-Tl0"
      },
      "execution_count": 42,
      "outputs": []
    },
    {
      "cell_type": "code",
      "source": [
        "# # Calculate the count of present and absent employees per team\n",
        "# team= df_a.groupby(['Team', 'attendance']).size().unstack(fill_value=0)\n",
        "# #team['Proportion_Absent'] = team['Absent'] / (df['Present'] + df['Absent'])"
      ],
      "metadata": {
        "colab": {
          "base_uri": "https://localhost:8080/",
          "height": 512
        },
        "id": "Z6DQuy_eiS8k",
        "outputId": "963583d2-49e9-4065-d6bd-741677d40008"
      },
      "execution_count": 41,
      "outputs": [
        {
          "output_type": "error",
          "ename": "KeyError",
          "evalue": "ignored",
          "traceback": [
            "\u001b[0;31m---------------------------------------------------------------------------\u001b[0m",
            "\u001b[0;31mKeyError\u001b[0m                                  Traceback (most recent call last)",
            "\u001b[0;32m/usr/local/lib/python3.10/dist-packages/pandas/core/indexes/base.py\u001b[0m in \u001b[0;36mget_loc\u001b[0;34m(self, key, method, tolerance)\u001b[0m\n\u001b[1;32m   3801\u001b[0m             \u001b[0;32mtry\u001b[0m\u001b[0;34m:\u001b[0m\u001b[0;34m\u001b[0m\u001b[0;34m\u001b[0m\u001b[0m\n\u001b[0;32m-> 3802\u001b[0;31m                 \u001b[0;32mreturn\u001b[0m \u001b[0mself\u001b[0m\u001b[0;34m.\u001b[0m\u001b[0m_engine\u001b[0m\u001b[0;34m.\u001b[0m\u001b[0mget_loc\u001b[0m\u001b[0;34m(\u001b[0m\u001b[0mcasted_key\u001b[0m\u001b[0;34m)\u001b[0m\u001b[0;34m\u001b[0m\u001b[0;34m\u001b[0m\u001b[0m\n\u001b[0m\u001b[1;32m   3803\u001b[0m             \u001b[0;32mexcept\u001b[0m \u001b[0mKeyError\u001b[0m \u001b[0;32mas\u001b[0m \u001b[0merr\u001b[0m\u001b[0;34m:\u001b[0m\u001b[0;34m\u001b[0m\u001b[0;34m\u001b[0m\u001b[0m\n",
            "\u001b[0;32m/usr/local/lib/python3.10/dist-packages/pandas/_libs/index.pyx\u001b[0m in \u001b[0;36mpandas._libs.index.IndexEngine.get_loc\u001b[0;34m()\u001b[0m\n",
            "\u001b[0;32m/usr/local/lib/python3.10/dist-packages/pandas/_libs/index.pyx\u001b[0m in \u001b[0;36mpandas._libs.index.IndexEngine.get_loc\u001b[0;34m()\u001b[0m\n",
            "\u001b[0;32mpandas/_libs/hashtable_class_helper.pxi\u001b[0m in \u001b[0;36mpandas._libs.hashtable.PyObjectHashTable.get_item\u001b[0;34m()\u001b[0m\n",
            "\u001b[0;32mpandas/_libs/hashtable_class_helper.pxi\u001b[0m in \u001b[0;36mpandas._libs.hashtable.PyObjectHashTable.get_item\u001b[0;34m()\u001b[0m\n",
            "\u001b[0;31mKeyError\u001b[0m: 'Present'",
            "\nThe above exception was the direct cause of the following exception:\n",
            "\u001b[0;31mKeyError\u001b[0m                                  Traceback (most recent call last)",
            "\u001b[0;32m<ipython-input-41-26727713751d>\u001b[0m in \u001b[0;36m<cell line: 3>\u001b[0;34m()\u001b[0m\n\u001b[1;32m      1\u001b[0m \u001b[0;31m# Calculate the count of present and absent employees per team\u001b[0m\u001b[0;34m\u001b[0m\u001b[0;34m\u001b[0m\u001b[0m\n\u001b[1;32m      2\u001b[0m \u001b[0mteam\u001b[0m\u001b[0;34m=\u001b[0m \u001b[0mdf_a\u001b[0m\u001b[0;34m.\u001b[0m\u001b[0mgroupby\u001b[0m\u001b[0;34m(\u001b[0m\u001b[0;34m[\u001b[0m\u001b[0;34m'Team'\u001b[0m\u001b[0;34m,\u001b[0m \u001b[0;34m'attendance'\u001b[0m\u001b[0;34m]\u001b[0m\u001b[0;34m)\u001b[0m\u001b[0;34m.\u001b[0m\u001b[0msize\u001b[0m\u001b[0;34m(\u001b[0m\u001b[0;34m)\u001b[0m\u001b[0;34m.\u001b[0m\u001b[0munstack\u001b[0m\u001b[0;34m(\u001b[0m\u001b[0mfill_value\u001b[0m\u001b[0;34m=\u001b[0m\u001b[0;36m0\u001b[0m\u001b[0;34m)\u001b[0m\u001b[0;34m\u001b[0m\u001b[0;34m\u001b[0m\u001b[0m\n\u001b[0;32m----> 3\u001b[0;31m \u001b[0mteam\u001b[0m\u001b[0;34m[\u001b[0m\u001b[0;34m'Proportion_Absent'\u001b[0m\u001b[0;34m]\u001b[0m \u001b[0;34m=\u001b[0m \u001b[0mteam\u001b[0m\u001b[0;34m[\u001b[0m\u001b[0;34m'Absent'\u001b[0m\u001b[0;34m]\u001b[0m \u001b[0;34m/\u001b[0m \u001b[0;34m(\u001b[0m\u001b[0mdf\u001b[0m\u001b[0;34m[\u001b[0m\u001b[0;34m'Present'\u001b[0m\u001b[0;34m]\u001b[0m \u001b[0;34m+\u001b[0m \u001b[0mdf\u001b[0m\u001b[0;34m[\u001b[0m\u001b[0;34m'Absent'\u001b[0m\u001b[0;34m]\u001b[0m\u001b[0;34m)\u001b[0m\u001b[0;34m\u001b[0m\u001b[0;34m\u001b[0m\u001b[0m\n\u001b[0m",
            "\u001b[0;32m/usr/local/lib/python3.10/dist-packages/pandas/core/frame.py\u001b[0m in \u001b[0;36m__getitem__\u001b[0;34m(self, key)\u001b[0m\n\u001b[1;32m   3805\u001b[0m             \u001b[0;32mif\u001b[0m \u001b[0mself\u001b[0m\u001b[0;34m.\u001b[0m\u001b[0mcolumns\u001b[0m\u001b[0;34m.\u001b[0m\u001b[0mnlevels\u001b[0m \u001b[0;34m>\u001b[0m \u001b[0;36m1\u001b[0m\u001b[0;34m:\u001b[0m\u001b[0;34m\u001b[0m\u001b[0;34m\u001b[0m\u001b[0m\n\u001b[1;32m   3806\u001b[0m                 \u001b[0;32mreturn\u001b[0m \u001b[0mself\u001b[0m\u001b[0;34m.\u001b[0m\u001b[0m_getitem_multilevel\u001b[0m\u001b[0;34m(\u001b[0m\u001b[0mkey\u001b[0m\u001b[0;34m)\u001b[0m\u001b[0;34m\u001b[0m\u001b[0;34m\u001b[0m\u001b[0m\n\u001b[0;32m-> 3807\u001b[0;31m             \u001b[0mindexer\u001b[0m \u001b[0;34m=\u001b[0m \u001b[0mself\u001b[0m\u001b[0;34m.\u001b[0m\u001b[0mcolumns\u001b[0m\u001b[0;34m.\u001b[0m\u001b[0mget_loc\u001b[0m\u001b[0;34m(\u001b[0m\u001b[0mkey\u001b[0m\u001b[0;34m)\u001b[0m\u001b[0;34m\u001b[0m\u001b[0;34m\u001b[0m\u001b[0m\n\u001b[0m\u001b[1;32m   3808\u001b[0m             \u001b[0;32mif\u001b[0m \u001b[0mis_integer\u001b[0m\u001b[0;34m(\u001b[0m\u001b[0mindexer\u001b[0m\u001b[0;34m)\u001b[0m\u001b[0;34m:\u001b[0m\u001b[0;34m\u001b[0m\u001b[0;34m\u001b[0m\u001b[0m\n\u001b[1;32m   3809\u001b[0m                 \u001b[0mindexer\u001b[0m \u001b[0;34m=\u001b[0m \u001b[0;34m[\u001b[0m\u001b[0mindexer\u001b[0m\u001b[0;34m]\u001b[0m\u001b[0;34m\u001b[0m\u001b[0;34m\u001b[0m\u001b[0m\n",
            "\u001b[0;32m/usr/local/lib/python3.10/dist-packages/pandas/core/indexes/base.py\u001b[0m in \u001b[0;36mget_loc\u001b[0;34m(self, key, method, tolerance)\u001b[0m\n\u001b[1;32m   3802\u001b[0m                 \u001b[0;32mreturn\u001b[0m \u001b[0mself\u001b[0m\u001b[0;34m.\u001b[0m\u001b[0m_engine\u001b[0m\u001b[0;34m.\u001b[0m\u001b[0mget_loc\u001b[0m\u001b[0;34m(\u001b[0m\u001b[0mcasted_key\u001b[0m\u001b[0;34m)\u001b[0m\u001b[0;34m\u001b[0m\u001b[0;34m\u001b[0m\u001b[0m\n\u001b[1;32m   3803\u001b[0m             \u001b[0;32mexcept\u001b[0m \u001b[0mKeyError\u001b[0m \u001b[0;32mas\u001b[0m \u001b[0merr\u001b[0m\u001b[0;34m:\u001b[0m\u001b[0;34m\u001b[0m\u001b[0;34m\u001b[0m\u001b[0m\n\u001b[0;32m-> 3804\u001b[0;31m                 \u001b[0;32mraise\u001b[0m \u001b[0mKeyError\u001b[0m\u001b[0;34m(\u001b[0m\u001b[0mkey\u001b[0m\u001b[0;34m)\u001b[0m \u001b[0;32mfrom\u001b[0m \u001b[0merr\u001b[0m\u001b[0;34m\u001b[0m\u001b[0;34m\u001b[0m\u001b[0m\n\u001b[0m\u001b[1;32m   3805\u001b[0m             \u001b[0;32mexcept\u001b[0m \u001b[0mTypeError\u001b[0m\u001b[0;34m:\u001b[0m\u001b[0;34m\u001b[0m\u001b[0;34m\u001b[0m\u001b[0m\n\u001b[1;32m   3806\u001b[0m                 \u001b[0;31m# If we have a listlike key, _check_indexing_error will raise\u001b[0m\u001b[0;34m\u001b[0m\u001b[0;34m\u001b[0m\u001b[0m\n",
            "\u001b[0;31mKeyError\u001b[0m: 'Present'"
          ]
        }
      ]
    },
    {
      "cell_type": "markdown",
      "source": [
        "Some teams have very few members and depending on the model we will pick we can decide to remove the teams with very few members"
      ],
      "metadata": {
        "id": "2FtHh2y4-lXz"
      }
    },
    {
      "cell_type": "markdown",
      "source": [
        "###Visualise"
      ],
      "metadata": {
        "id": "clQbpUer9e3B"
      }
    },
    {
      "cell_type": "code",
      "source": [
        "df_p=df_p.groupby([\"date\"])[\"Employee_Id\"].count()\n",
        "df_p.head(10)"
      ],
      "metadata": {
        "colab": {
          "base_uri": "https://localhost:8080/"
        },
        "id": "DSuucvcR9TRX",
        "outputId": "8c99949e-412c-4679-8076-ef552912dfc5"
      },
      "execution_count": 56,
      "outputs": [
        {
          "output_type": "execute_result",
          "data": {
            "text/plain": [
              "date\n",
              "2023-02-02    15\n",
              "2023-02-03    15\n",
              "2023-02-06    15\n",
              "2023-02-07    16\n",
              "2023-02-08    16\n",
              "2023-02-09    16\n",
              "2023-02-10    15\n",
              "2023-02-13    15\n",
              "2023-02-14    15\n",
              "2023-02-15     4\n",
              "Name: Employee_Id, dtype: int64"
            ]
          },
          "metadata": {},
          "execution_count": 56
        }
      ]
    },
    {
      "cell_type": "code",
      "source": [
        "df=df_p.reset_index()\n",
        "df.set_index('date', inplace = True)\n",
        "df.rename(columns = {'Employee_Id':'attendance'}, inplace = True)\n",
        "#df['attendance']=df['Employee_Id']\n",
        "df.head(5)"
      ],
      "metadata": {
        "colab": {
          "base_uri": "https://localhost:8080/",
          "height": 237
        },
        "id": "Wbrc9IAXQdEY",
        "outputId": "95c01a46-8ec8-4c4b-c5ca-22287fa4dc91"
      },
      "execution_count": 57,
      "outputs": [
        {
          "output_type": "execute_result",
          "data": {
            "text/plain": [
              "            attendance\n",
              "date                  \n",
              "2023-02-02          15\n",
              "2023-02-03          15\n",
              "2023-02-06          15\n",
              "2023-02-07          16\n",
              "2023-02-08          16"
            ],
            "text/html": [
              "\n",
              "  <div id=\"df-ef4f5319-4ad9-4a40-b539-0b4109810174\" class=\"colab-df-container\">\n",
              "    <div>\n",
              "<style scoped>\n",
              "    .dataframe tbody tr th:only-of-type {\n",
              "        vertical-align: middle;\n",
              "    }\n",
              "\n",
              "    .dataframe tbody tr th {\n",
              "        vertical-align: top;\n",
              "    }\n",
              "\n",
              "    .dataframe thead th {\n",
              "        text-align: right;\n",
              "    }\n",
              "</style>\n",
              "<table border=\"1\" class=\"dataframe\">\n",
              "  <thead>\n",
              "    <tr style=\"text-align: right;\">\n",
              "      <th></th>\n",
              "      <th>attendance</th>\n",
              "    </tr>\n",
              "    <tr>\n",
              "      <th>date</th>\n",
              "      <th></th>\n",
              "    </tr>\n",
              "  </thead>\n",
              "  <tbody>\n",
              "    <tr>\n",
              "      <th>2023-02-02</th>\n",
              "      <td>15</td>\n",
              "    </tr>\n",
              "    <tr>\n",
              "      <th>2023-02-03</th>\n",
              "      <td>15</td>\n",
              "    </tr>\n",
              "    <tr>\n",
              "      <th>2023-02-06</th>\n",
              "      <td>15</td>\n",
              "    </tr>\n",
              "    <tr>\n",
              "      <th>2023-02-07</th>\n",
              "      <td>16</td>\n",
              "    </tr>\n",
              "    <tr>\n",
              "      <th>2023-02-08</th>\n",
              "      <td>16</td>\n",
              "    </tr>\n",
              "  </tbody>\n",
              "</table>\n",
              "</div>\n",
              "    <div class=\"colab-df-buttons\">\n",
              "\n",
              "  <div class=\"colab-df-container\">\n",
              "    <button class=\"colab-df-convert\" onclick=\"convertToInteractive('df-ef4f5319-4ad9-4a40-b539-0b4109810174')\"\n",
              "            title=\"Convert this dataframe to an interactive table.\"\n",
              "            style=\"display:none;\">\n",
              "\n",
              "  <svg xmlns=\"http://www.w3.org/2000/svg\" height=\"24px\" viewBox=\"0 -960 960 960\">\n",
              "    <path d=\"M120-120v-720h720v720H120Zm60-500h600v-160H180v160Zm220 220h160v-160H400v160Zm0 220h160v-160H400v160ZM180-400h160v-160H180v160Zm440 0h160v-160H620v160ZM180-180h160v-160H180v160Zm440 0h160v-160H620v160Z\"/>\n",
              "  </svg>\n",
              "    </button>\n",
              "\n",
              "  <style>\n",
              "    .colab-df-container {\n",
              "      display:flex;\n",
              "      gap: 12px;\n",
              "    }\n",
              "\n",
              "    .colab-df-convert {\n",
              "      background-color: #E8F0FE;\n",
              "      border: none;\n",
              "      border-radius: 50%;\n",
              "      cursor: pointer;\n",
              "      display: none;\n",
              "      fill: #1967D2;\n",
              "      height: 32px;\n",
              "      padding: 0 0 0 0;\n",
              "      width: 32px;\n",
              "    }\n",
              "\n",
              "    .colab-df-convert:hover {\n",
              "      background-color: #E2EBFA;\n",
              "      box-shadow: 0px 1px 2px rgba(60, 64, 67, 0.3), 0px 1px 3px 1px rgba(60, 64, 67, 0.15);\n",
              "      fill: #174EA6;\n",
              "    }\n",
              "\n",
              "    .colab-df-buttons div {\n",
              "      margin-bottom: 4px;\n",
              "    }\n",
              "\n",
              "    [theme=dark] .colab-df-convert {\n",
              "      background-color: #3B4455;\n",
              "      fill: #D2E3FC;\n",
              "    }\n",
              "\n",
              "    [theme=dark] .colab-df-convert:hover {\n",
              "      background-color: #434B5C;\n",
              "      box-shadow: 0px 1px 3px 1px rgba(0, 0, 0, 0.15);\n",
              "      filter: drop-shadow(0px 1px 2px rgba(0, 0, 0, 0.3));\n",
              "      fill: #FFFFFF;\n",
              "    }\n",
              "  </style>\n",
              "\n",
              "    <script>\n",
              "      const buttonEl =\n",
              "        document.querySelector('#df-ef4f5319-4ad9-4a40-b539-0b4109810174 button.colab-df-convert');\n",
              "      buttonEl.style.display =\n",
              "        google.colab.kernel.accessAllowed ? 'block' : 'none';\n",
              "\n",
              "      async function convertToInteractive(key) {\n",
              "        const element = document.querySelector('#df-ef4f5319-4ad9-4a40-b539-0b4109810174');\n",
              "        const dataTable =\n",
              "          await google.colab.kernel.invokeFunction('convertToInteractive',\n",
              "                                                    [key], {});\n",
              "        if (!dataTable) return;\n",
              "\n",
              "        const docLinkHtml = 'Like what you see? Visit the ' +\n",
              "          '<a target=\"_blank\" href=https://colab.research.google.com/notebooks/data_table.ipynb>data table notebook</a>'\n",
              "          + ' to learn more about interactive tables.';\n",
              "        element.innerHTML = '';\n",
              "        dataTable['output_type'] = 'display_data';\n",
              "        await google.colab.output.renderOutput(dataTable, element);\n",
              "        const docLink = document.createElement('div');\n",
              "        docLink.innerHTML = docLinkHtml;\n",
              "        element.appendChild(docLink);\n",
              "      }\n",
              "    </script>\n",
              "  </div>\n",
              "\n",
              "\n",
              "<div id=\"df-4c33ca73-8573-4abd-9a9e-38f9ed05a10a\">\n",
              "  <button class=\"colab-df-quickchart\" onclick=\"quickchart('df-4c33ca73-8573-4abd-9a9e-38f9ed05a10a')\"\n",
              "            title=\"Suggest charts.\"\n",
              "            style=\"display:none;\">\n",
              "\n",
              "<svg xmlns=\"http://www.w3.org/2000/svg\" height=\"24px\"viewBox=\"0 0 24 24\"\n",
              "     width=\"24px\">\n",
              "    <g>\n",
              "        <path d=\"M19 3H5c-1.1 0-2 .9-2 2v14c0 1.1.9 2 2 2h14c1.1 0 2-.9 2-2V5c0-1.1-.9-2-2-2zM9 17H7v-7h2v7zm4 0h-2V7h2v10zm4 0h-2v-4h2v4z\"/>\n",
              "    </g>\n",
              "</svg>\n",
              "  </button>\n",
              "\n",
              "<style>\n",
              "  .colab-df-quickchart {\n",
              "      --bg-color: #E8F0FE;\n",
              "      --fill-color: #1967D2;\n",
              "      --hover-bg-color: #E2EBFA;\n",
              "      --hover-fill-color: #174EA6;\n",
              "      --disabled-fill-color: #AAA;\n",
              "      --disabled-bg-color: #DDD;\n",
              "  }\n",
              "\n",
              "  [theme=dark] .colab-df-quickchart {\n",
              "      --bg-color: #3B4455;\n",
              "      --fill-color: #D2E3FC;\n",
              "      --hover-bg-color: #434B5C;\n",
              "      --hover-fill-color: #FFFFFF;\n",
              "      --disabled-bg-color: #3B4455;\n",
              "      --disabled-fill-color: #666;\n",
              "  }\n",
              "\n",
              "  .colab-df-quickchart {\n",
              "    background-color: var(--bg-color);\n",
              "    border: none;\n",
              "    border-radius: 50%;\n",
              "    cursor: pointer;\n",
              "    display: none;\n",
              "    fill: var(--fill-color);\n",
              "    height: 32px;\n",
              "    padding: 0;\n",
              "    width: 32px;\n",
              "  }\n",
              "\n",
              "  .colab-df-quickchart:hover {\n",
              "    background-color: var(--hover-bg-color);\n",
              "    box-shadow: 0 1px 2px rgba(60, 64, 67, 0.3), 0 1px 3px 1px rgba(60, 64, 67, 0.15);\n",
              "    fill: var(--button-hover-fill-color);\n",
              "  }\n",
              "\n",
              "  .colab-df-quickchart-complete:disabled,\n",
              "  .colab-df-quickchart-complete:disabled:hover {\n",
              "    background-color: var(--disabled-bg-color);\n",
              "    fill: var(--disabled-fill-color);\n",
              "    box-shadow: none;\n",
              "  }\n",
              "\n",
              "  .colab-df-spinner {\n",
              "    border: 2px solid var(--fill-color);\n",
              "    border-color: transparent;\n",
              "    border-bottom-color: var(--fill-color);\n",
              "    animation:\n",
              "      spin 1s steps(1) infinite;\n",
              "  }\n",
              "\n",
              "  @keyframes spin {\n",
              "    0% {\n",
              "      border-color: transparent;\n",
              "      border-bottom-color: var(--fill-color);\n",
              "      border-left-color: var(--fill-color);\n",
              "    }\n",
              "    20% {\n",
              "      border-color: transparent;\n",
              "      border-left-color: var(--fill-color);\n",
              "      border-top-color: var(--fill-color);\n",
              "    }\n",
              "    30% {\n",
              "      border-color: transparent;\n",
              "      border-left-color: var(--fill-color);\n",
              "      border-top-color: var(--fill-color);\n",
              "      border-right-color: var(--fill-color);\n",
              "    }\n",
              "    40% {\n",
              "      border-color: transparent;\n",
              "      border-right-color: var(--fill-color);\n",
              "      border-top-color: var(--fill-color);\n",
              "    }\n",
              "    60% {\n",
              "      border-color: transparent;\n",
              "      border-right-color: var(--fill-color);\n",
              "    }\n",
              "    80% {\n",
              "      border-color: transparent;\n",
              "      border-right-color: var(--fill-color);\n",
              "      border-bottom-color: var(--fill-color);\n",
              "    }\n",
              "    90% {\n",
              "      border-color: transparent;\n",
              "      border-bottom-color: var(--fill-color);\n",
              "    }\n",
              "  }\n",
              "</style>\n",
              "\n",
              "  <script>\n",
              "    async function quickchart(key) {\n",
              "      const quickchartButtonEl =\n",
              "        document.querySelector('#' + key + ' button');\n",
              "      quickchartButtonEl.disabled = true;  // To prevent multiple clicks.\n",
              "      quickchartButtonEl.classList.add('colab-df-spinner');\n",
              "      try {\n",
              "        const charts = await google.colab.kernel.invokeFunction(\n",
              "            'suggestCharts', [key], {});\n",
              "      } catch (error) {\n",
              "        console.error('Error during call to suggestCharts:', error);\n",
              "      }\n",
              "      quickchartButtonEl.classList.remove('colab-df-spinner');\n",
              "      quickchartButtonEl.classList.add('colab-df-quickchart-complete');\n",
              "    }\n",
              "    (() => {\n",
              "      let quickchartButtonEl =\n",
              "        document.querySelector('#df-4c33ca73-8573-4abd-9a9e-38f9ed05a10a button');\n",
              "      quickchartButtonEl.style.display =\n",
              "        google.colab.kernel.accessAllowed ? 'block' : 'none';\n",
              "    })();\n",
              "  </script>\n",
              "</div>\n",
              "    </div>\n",
              "  </div>\n"
            ]
          },
          "metadata": {},
          "execution_count": 57
        }
      ]
    },
    {
      "cell_type": "code",
      "source": [
        "# Visualize the attendance Trends per day\n",
        "import matplotlib.pyplot as plt\n",
        "plt.style.use('fivethirtyeight')\n",
        "\n",
        "plt.style.use('fivethirtyeight')\n",
        "\n",
        "plt.figure(figsize=(8,5))\n",
        "plt.title('Present Attendance Trends')\n",
        "\n",
        "plt.plot(df['attendance'],)\n",
        "\n",
        "#Label The axis\n",
        "plt.xlabel('Date', fontsize=18)\n",
        "plt.xticks(rotation=45)\n",
        "plt.ylabel('Attendance', fontsize=18)\n",
        "\n",
        "plt.show()"
      ],
      "metadata": {
        "colab": {
          "base_uri": "https://localhost:8080/",
          "height": 577
        },
        "id": "Y78_HDzcP51N",
        "outputId": "ab54035c-7536-4859-981d-e36d8411640a"
      },
      "execution_count": 58,
      "outputs": [
        {
          "output_type": "display_data",
          "data": {
            "text/plain": [
              "<Figure size 800x500 with 1 Axes>"
            ],
            "image/png": "[encoded data removed]"
          },
          "metadata": {}
        }
      ]
    },
    {
      "cell_type": "markdown",
      "source": [
        "###Check for the Distribution"
      ],
      "metadata": {
        "id": "k9gQAAOFFR_u"
      }
    },
    {
      "cell_type": "code",
      "source": [
        "df['attendance'].plot(figsize=(8, 5),kind=\"box\", title=\"Attendance Distribution\" );"
      ],
      "metadata": {
        "colab": {
          "base_uri": "https://localhost:8080/",
          "height": 496
        },
        "id": "ZSaoyADMFZgx",
        "outputId": "86ff474d-ddab-46b6-c20d-328f44f576dd"
      },
      "execution_count": 59,
      "outputs": [
        {
          "output_type": "display_data",
          "data": {
            "text/plain": [
              "<Figure size 800x500 with 1 Axes>"
            ],
            "image/png": "[encoded data removed]"
          },
          "metadata": {}
        }
      ]
    },
    {
      "cell_type": "code",
      "source": [
        "out=df[df['attendance']<100]\n",
        "out.shape"
      ],
      "metadata": {
        "colab": {
          "base_uri": "https://localhost:8080/"
        },
        "id": "Z0-blcgAk3zm",
        "outputId": "4e1bb0f9-772d-49b3-e4a6-1f851cd5aa67"
      },
      "execution_count": 60,
      "outputs": [
        {
          "output_type": "execute_result",
          "data": {
            "text/plain": [
              "(19, 1)"
            ]
          },
          "metadata": {},
          "execution_count": 60
        }
      ]
    },
    {
      "cell_type": "markdown",
      "source": [
        "Check for outliers cause some days have really low attendance to avoid skewing the data."
      ],
      "metadata": {
        "id": "Yx61h56s9cXH"
      }
    },
    {
      "cell_type": "code",
      "source": [
        "#remove the outliers\n",
        "#df=df[df['attendance']>125]"
      ],
      "metadata": {
        "id": "vaPXb3suDnQi"
      },
      "execution_count": null,
      "outputs": []
    },
    {
      "cell_type": "code",
      "source": [
        "df['attendance'].plot(xlabel='Time', ylabel='Attendance', title='Attendance Time Series');"
      ],
      "metadata": {
        "colab": {
          "base_uri": "https://localhost:8080/",
          "height": 484
        },
        "id": "y-T9nOEcGZY1",
        "outputId": "c3bb17e1-5304-49cf-bb7a-adef15009bc3"
      },
      "execution_count": 61,
      "outputs": [
        {
          "output_type": "display_data",
          "data": {
            "text/plain": [
              "<Figure size 640x480 with 1 Axes>"
            ],
            "image/png": "[encoded data removed]"
          },
          "metadata": {}
        }
      ]
    },
    {
      "cell_type": "markdown",
      "source": [
        "##Split and Train The Model"
      ],
      "metadata": {
        "id": "FZ-7GbxoG73p"
      }
    },
    {
      "cell_type": "code",
      "source": [
        "import math\n",
        "\n",
        "from sklearn.model_selection import train_test_split\n",
        "from sklearn import metrics\n",
        "from sklearn.preprocessing import StandardScaler, LabelEncoder, MinMaxScaler\n",
        "\n",
        "from keras.layers import Dense, LSTM\n",
        "from keras.models import Sequential\n",
        "from keras import Input"
      ],
      "metadata": {
        "id": "IJ8fyawLHA_S"
      },
      "execution_count": 63,
      "outputs": []
    },
    {
      "cell_type": "code",
      "source": [
        "df.shape"
      ],
      "metadata": {
        "colab": {
          "base_uri": "https://localhost:8080/"
        },
        "id": "jaiywSMWHGP2",
        "outputId": "c6128ac3-21fd-4e06-ebbd-6be46a2f4868"
      },
      "execution_count": 62,
      "outputs": [
        {
          "output_type": "execute_result",
          "data": {
            "text/plain": [
              "(131, 1)"
            ]
          },
          "metadata": {},
          "execution_count": 62
        }
      ]
    },
    {
      "cell_type": "code",
      "source": [],
      "metadata": {
        "id": "P3Y_Xf9Vbh_A"
      },
      "execution_count": null,
      "outputs": []
    },
    {
      "cell_type": "markdown",
      "source": [
        "###Split Data"
      ],
      "metadata": {
        "id": "yNA2a1wPaL6V"
      }
    },
    {
      "cell_type": "code",
      "source": [
        "#Convert the dataframe to a numpy array\n",
        "dataset = df.values\n",
        "\n",
        "#Get the number of rows to train the model on\n",
        "training_data_len = math.ceil( len(dataset) * 0.8 )\n",
        "\n",
        "training_data_len"
      ],
      "metadata": {
        "colab": {
          "base_uri": "https://localhost:8080/"
        },
        "id": "S3LSgv3SoPV_",
        "outputId": "1c1be701-4509-458b-b1ec-7089682be6b1"
      },
      "execution_count": 64,
      "outputs": [
        {
          "output_type": "execute_result",
          "data": {
            "text/plain": [
              "105"
            ]
          },
          "metadata": {},
          "execution_count": 64
        }
      ]
    },
    {
      "cell_type": "code",
      "source": [
        "# #Scale the data\n",
        "# scaler = MinMaxScaler(feature_range=(0,1))\n",
        "# scaled_data = scaler.fit_transform(dataset)\n",
        "\n",
        "# scaled_data[:5]"
      ],
      "metadata": {
        "colab": {
          "base_uri": "https://localhost:8080/"
        },
        "id": "PrJUYb3Huz_B",
        "outputId": "dd15b698-122f-4dd2-997f-db8a40ad1821"
      },
      "execution_count": null,
      "outputs": [
        {
          "output_type": "execute_result",
          "data": {
            "text/plain": [
              "array([[0.        ],\n",
              "       [0.21428571],\n",
              "       [0.17857143],\n",
              "       [0.39285714],\n",
              "       [0.21428571]])"
            ]
          },
          "metadata": {},
          "execution_count": 283
        }
      ]
    },
    {
      "cell_type": "code",
      "source": [
        "#scaled_data=dataset"
      ],
      "metadata": {
        "id": "gAOgHhIDx_OR"
      },
      "execution_count": null,
      "outputs": []
    },
    {
      "cell_type": "markdown",
      "source": [
        "####Scale Data"
      ],
      "metadata": {
        "id": "hSR_V6BJonvz"
      }
    },
    {
      "cell_type": "code",
      "source": [
        "#Create the training data set\n",
        "#Create the scaled training data set\n",
        "train_data = dataset[0:training_data_len, :]\n",
        "#Split the data into x_train and y_train data sets\n",
        "x_train = []\n",
        "y_train = []\n",
        "#We create a loop\n",
        "for i in range(5, len(train_data)):\n",
        "    x_train.append(train_data[i-5:i, 0]) #Will conain 5 values (0-4)\n",
        "    y_train.append(train_data[i, 0]) #Will contain the 5th value (5)\n",
        "    if i <= 6:\n",
        "        print(x_train)\n",
        "        print(y_train)\n",
        "        print()"
      ],
      "metadata": {
        "colab": {
          "base_uri": "https://localhost:8080/"
        },
        "id": "3tia71M4ICWz",
        "outputId": "92e1ecf7-cb87-43b3-a968-9ab8eaec9dcb"
      },
      "execution_count": 65,
      "outputs": [
        {
          "output_type": "stream",
          "name": "stdout",
          "text": [
            "[array([15, 15, 15, 16, 16])]\n",
            "[16]\n",
            "\n",
            "[array([15, 15, 15, 16, 16]), array([15, 15, 16, 16, 16])]\n",
            "[16, 15]\n",
            "\n"
          ]
        }
      ]
    },
    {
      "cell_type": "code",
      "source": [
        "#Convert the x_train and y_train to numpy arrays\n",
        "## So that they can be used in training the LSTM Model\n",
        "X_train, y_train = np.array(x_train), np.array(y_train)\n",
        "\n",
        "#Reshape the x_train data\n",
        "## Because LSTM expects input to be 3D in terms of (Samples(rows), Features(columns) and Time Steps)\n",
        "X_train = np.reshape(X_train, (X_train.shape[0], X_train.shape[1], 1))\n",
        "X_train.shape"
      ],
      "metadata": {
        "colab": {
          "base_uri": "https://localhost:8080/"
        },
        "id": "Jbv3bFAaKvNF",
        "outputId": "afcd2c44-1da0-4ce4-ba73-00f6974cec61"
      },
      "execution_count": 66,
      "outputs": [
        {
          "output_type": "execute_result",
          "data": {
            "text/plain": [
              "(100, 5, 1)"
            ]
          },
          "metadata": {},
          "execution_count": 66
        }
      ]
    },
    {
      "cell_type": "code",
      "source": [
        "##### Step 3 - Specify the structure of a Neural Networks\n",
        "model = Sequential(name=\"LSTM-Model\")# Model\n",
        "#model.add(LSTM(50, return_sequences=True, input_shape=(X_train.shape[1], 1)))\n",
        "model.add(Input(shape=(X_train.shape[1],X_train.shape[2]), name='Input-Layer')) # Input Layer - need to speicfy the shape of inputs\n",
        "model.add(LSTM(50, return_sequences=False))\n",
        "model.add(Dense(25))\n",
        "model.add(Dense(1))\n",
        "\n",
        "\n",
        "##### Step 4 - Compile the model\n",
        "model.compile(optimizer='adam', # default='rmsprop', an algorithm to be used in backpropagation\n",
        "              loss='mean_squared_error', # Loss function to be optimized. A string (name of loss function), or a tf.keras.losses.Loss instance.\n",
        "              metrics=['MeanSquaredError', 'MeanAbsoluteError'], # List of metrics to be evaluated by the model during training and testing. Each of this can be a string (name of a built-in function), function or a tf.keras.metrics.Metric instance.\n",
        "\n",
        "              run_eagerly=None, # Defaults to False. If True, this Model's logic will not be wrapped in a tf.function. Recommended to leave this as None unless your Model cannot be run inside a tf.function.\n",
        "              steps_per_execution=None # Defaults to 1. The number of batches to run during each tf.function call. Running multiple batches inside a single tf.function call can greatly improve performance on TPUs or small models with a large Python overhead.\n",
        "             )\n",
        "\n",
        "\n",
        "##### Step 5 - Fit the model on the dataset\n",
        "history = model.fit(X_train, # input data\n",
        "                    y_train, # target data\n",
        "                    batch_size=1, # Number of samples per gradient update. If unspecified, batch_size will default to 32.\n",
        "                    epochs=1000, # default=1, Number of epochs to train the model. An epoch is an iteration over the entire x and y data provided\n",
        "                    verbose=0, # default='auto', ('auto', 0, 1, or 2). Verbosity mode. 0 = silent, 1 = progress bar, 2 = one line per epoch. 'auto' defaults to 1 for most cases, but 2 when used with ParameterServerStrategy.\n",
        "\n",
        "                    validation_split=0.2, # default=0.0, Fraction of the training data to be used as validation data. The model will set apart this fraction of the training data, will not train on it, and will evaluate the loss and any model metrics on this data at the end of each epoch.\n",
        "\n",
        "                    use_multiprocessing=True, # default=False, Used for generator or keras.utils.Sequence input only. If True, use process-based threading. If unspecified, use_multiprocessing will default to False.\n",
        "                   )"
      ],
      "metadata": {
        "id": "cDfYPXxUK3bS"
      },
      "execution_count": 67,
      "outputs": []
    },
    {
      "cell_type": "code",
      "source": [
        "#Create a new array containing scaled values from index 136 to 169\n",
        "test_data = dataset[training_data_len - 5:]\n",
        "\n",
        "#Create the data set x_test and y_test\n",
        "x_test = []\n",
        "y_test = dataset[training_data_len:, :]\n",
        "for i in range(5, len(test_data)):\n",
        "    x_test.append(test_data[i-5:i, 0])\n"
      ],
      "metadata": {
        "id": "HPFtY4fSSCpe"
      },
      "execution_count": 68,
      "outputs": []
    },
    {
      "cell_type": "code",
      "source": [
        "#Convert the data to a numpy array\n",
        "X_test = np.array(x_test)"
      ],
      "metadata": {
        "id": "lfzHm3NyTCRE"
      },
      "execution_count": 69,
      "outputs": []
    },
    {
      "cell_type": "code",
      "source": [
        "#Reshape the data\n",
        "X_test = np.reshape(X_test, (X_test.shape[0], X_test.shape[1], 1))"
      ],
      "metadata": {
        "id": "Q_s61u-3TMVd"
      },
      "execution_count": 70,
      "outputs": []
    },
    {
      "cell_type": "code",
      "source": [
        "#Get the model's predicted price values for the x_test data set\n",
        "predictions = model.predict(X_test)\n",
        "predictions"
      ],
      "metadata": {
        "colab": {
          "base_uri": "https://localhost:8080/"
        },
        "id": "2AgYSepvTben",
        "outputId": "c793e6c0-1902-4835-8265-315a80cfd530"
      },
      "execution_count": 71,
      "outputs": [
        {
          "output_type": "stream",
          "name": "stdout",
          "text": [
            "1/1 [==============================] - 1s 711ms/step\n"
          ]
        },
        {
          "output_type": "execute_result",
          "data": {
            "text/plain": [
              "array([[165.1371 ],\n",
              "       [165.16669],\n",
              "       [164.76942],\n",
              "       [165.06465],\n",
              "       [165.13405],\n",
              "       [165.06638],\n",
              "       [165.06714],\n",
              "       [165.06686],\n",
              "       [165.13481],\n",
              "       [165.13606],\n",
              "       [165.13673],\n",
              "       [165.06892],\n",
              "       [164.69862],\n",
              "       [165.0633 ],\n",
              "       [165.1011 ],\n",
              "       [165.06535],\n",
              "       [165.02744],\n",
              "       [164.98326],\n",
              "       [164.98189],\n",
              "       [165.16228],\n",
              "       [165.19171],\n",
              "       [165.16719],\n",
              "       [165.03116],\n",
              "       [165.1655 ],\n",
              "       [165.13689],\n",
              "       [165.25912]], dtype=float32)"
            ]
          },
          "metadata": {},
          "execution_count": 71
        }
      ]
    },
    {
      "cell_type": "code",
      "source": [
        "len(predictions)"
      ],
      "metadata": {
        "colab": {
          "base_uri": "https://localhost:8080/"
        },
        "id": "PxlMr9GptKGK",
        "outputId": "2375171a-7db8-4778-acdd-64dff77f529d"
      },
      "execution_count": 72,
      "outputs": [
        {
          "output_type": "execute_result",
          "data": {
            "text/plain": [
              "26"
            ]
          },
          "metadata": {},
          "execution_count": 72
        }
      ]
    },
    {
      "cell_type": "markdown",
      "source": [
        "###Evaluate the Model"
      ],
      "metadata": {
        "id": "Ci2nZ9BgTA30"
      }
    },
    {
      "cell_type": "code",
      "source": [
        "#Evaluate model (get the root mean quared error (RMSE))\n",
        "rmse = np.sqrt( np.mean( predictions - y_test )**2 )\n",
        "rmse"
      ],
      "metadata": {
        "colab": {
          "base_uri": "https://localhost:8080/"
        },
        "id": "OK0IJa4GT8TM",
        "outputId": "1eb994bb-5ee3-455b-e44c-0239a56c5d04"
      },
      "execution_count": 73,
      "outputs": [
        {
          "output_type": "execute_result",
          "data": {
            "text/plain": [
              "1.6160143338716948"
            ]
          },
          "metadata": {},
          "execution_count": 73
        }
      ]
    },
    {
      "cell_type": "code",
      "source": [
        "#Plot the data\n",
        "train = df[:training_data_len]\n",
        "valid = df[training_data_len:]\n",
        "valid['Predictions'] = predictions\n",
        "#Visualize the data\n",
        "plt.figure(figsize=(16,8))\n",
        "plt.title('Model')\n",
        "plt.xlabel('Date', fontsize=18)\n",
        "plt.ylabel('Daily Attendance', fontsize=18)\n",
        "plt.plot(train['attendance'])\n",
        "plt.plot(valid[['attendance', 'Predictions']])\n",
        "plt.legend(['Train', 'Validation', 'Predictions'], loc='lower right')\n",
        "plt.show();"
      ],
      "metadata": {
        "colab": {
          "base_uri": "https://localhost:8080/",
          "height": 892
        },
        "id": "jY7bmqvFUhMy",
        "outputId": "1715270d-3d1e-436f-caf0-9dbea3893fec"
      },
      "execution_count": 74,
      "outputs": [
        {
          "output_type": "stream",
          "name": "stderr",
          "text": [
            "<ipython-input-74-66199234e903>:4: SettingWithCopyWarning: \n",
            "A value is trying to be set on a copy of a slice from a DataFrame.\n",
            "Try using .loc[row_indexer,col_indexer] = value instead\n",
            "\n",
            "See the caveats in the documentation: https://pandas.pydata.org/pandas-docs/stable/user_guide/indexing.html#returning-a-view-versus-a-copy\n",
            "  valid['Predictions'] = predictions\n"
          ]
        },
        {
          "output_type": "display_data",
          "data": {
            "text/plain": [
              "<Figure size 1600x800 with 1 Axes>"
            ],
            "image/png": "[encoded data removed]"
          },
          "metadata": {}
        }
      ]
    },
    {
      "cell_type": "code",
      "source": [
        "X_FUTURE = 30\n",
        "predictions = np.array([])\n",
        "last = X_test[-1]\n",
        "for i in range(X_FUTURE):\n",
        "    curr_prediction = model.predict(np.array([last]))\n",
        "    print(curr_prediction)\n",
        "    last = np.concatenate([last[1:], curr_prediction])\n",
        "    predictions = np.concatenate([predictions, curr_prediction[0]])\n",
        "#predictions = scaler.inverse_transform([predictions])[0]\n",
        "print(predictions[:5])"
      ],
      "metadata": {
        "colab": {
          "base_uri": "https://localhost:8080/"
        },
        "id": "bJAioM_gU_hK",
        "outputId": "ee7cafbc-1e14-4e92-c066-163d6eaaf1af"
      },
      "execution_count": 77,
      "outputs": [
        {
          "output_type": "stream",
          "name": "stdout",
          "text": [
            "1/1 [==============================] - 0s 45ms/step\n",
            "[[165.2591]]\n",
            "1/1 [==============================] - 0s 42ms/step\n",
            "[[165.04347]]\n",
            "1/1 [==============================] - 0s 90ms/step\n",
            "[[165.03102]]\n",
            "1/1 [==============================] - 0s 104ms/step\n",
            "[[165.0285]]\n",
            "1/1 [==============================] - 0s 88ms/step\n",
            "[[165.02711]]\n",
            "1/1 [==============================] - 0s 35ms/step\n",
            "[[165.02696]]\n",
            "1/1 [==============================] - 0s 103ms/step\n",
            "[[165.02695]]\n",
            "1/1 [==============================] - 0s 53ms/step\n",
            "[[165.02693]]\n",
            "1/1 [==============================] - 0s 47ms/step\n",
            "[[165.02693]]\n",
            "1/1 [==============================] - 0s 61ms/step\n",
            "[[165.02693]]\n",
            "1/1 [==============================] - 0s 44ms/step\n",
            "[[165.02693]]\n",
            "1/1 [==============================] - 0s 63ms/step\n",
            "[[165.02693]]\n",
            "1/1 [==============================] - 0s 79ms/step\n",
            "[[165.02693]]\n",
            "1/1 [==============================] - 0s 114ms/step\n",
            "[[165.02693]]\n",
            "1/1 [==============================] - 0s 95ms/step\n",
            "[[165.02693]]\n",
            "1/1 [==============================] - 0s 118ms/step\n",
            "[[165.02693]]\n",
            "1/1 [==============================] - 0s 134ms/step\n",
            "[[165.02693]]\n",
            "1/1 [==============================] - 0s 120ms/step\n",
            "[[165.02693]]\n",
            "1/1 [==============================] - 0s 109ms/step\n",
            "[[165.02693]]\n",
            "1/1 [==============================] - 0s 109ms/step\n",
            "[[165.02693]]\n",
            "1/1 [==============================] - 0s 112ms/step\n",
            "[[165.02693]]\n",
            "1/1 [==============================] - 0s 126ms/step\n",
            "[[165.02693]]\n",
            "1/1 [==============================] - 0s 118ms/step\n",
            "[[165.02693]]\n",
            "1/1 [==============================] - 0s 87ms/step\n",
            "[[165.02693]]\n",
            "1/1 [==============================] - 0s 104ms/step\n",
            "[[165.02693]]\n",
            "1/1 [==============================] - 0s 104ms/step\n",
            "[[165.02693]]\n",
            "1/1 [==============================] - 0s 83ms/step\n",
            "[[165.02693]]\n",
            "1/1 [==============================] - 0s 83ms/step\n",
            "[[165.02693]]\n",
            "1/1 [==============================] - 0s 41ms/step\n",
            "[[165.02693]]\n",
            "1/1 [==============================] - 0s 56ms/step\n",
            "[[165.02693]]\n",
            "[165.25909424 165.04347229 165.03102112 165.02850342 165.02711487]\n"
          ]
        }
      ]
    },
    {
      "cell_type": "code",
      "source": [
        "X_FUTURE = 14\n",
        "predictions = np.array([])\n",
        "last = X_test[-1]\n",
        "for i in range(X_FUTURE):\n",
        "    curr_prediction = model.predict(np.array([last]))\n",
        "    print(curr_prediction)\n",
        "    last = np.concatenate([last[1:], curr_prediction])\n",
        "    predictions = np.concatenate([predictions, curr_prediction[0]])\n",
        "#predictions = scaler.inverse_transform([predictions])[0]\n",
        "print(predictions)"
      ],
      "metadata": {
        "colab": {
          "base_uri": "https://localhost:8080/"
        },
        "id": "jqK_uzAkw6qJ",
        "outputId": "2d26862a-8310-479b-9996-103a96b8ba0d"
      },
      "execution_count": null,
      "outputs": [
        {
          "output_type": "stream",
          "name": "stdout",
          "text": [
            "1/1 [==============================] - 0s 41ms/step\n",
            "[[167.33134]]\n",
            "1/1 [==============================] - 0s 38ms/step\n",
            "[[165.95053]]\n",
            "1/1 [==============================] - 0s 41ms/step\n",
            "[[165.46068]]\n",
            "1/1 [==============================] - 0s 38ms/step\n",
            "[[165.27623]]\n",
            "1/1 [==============================] - 0s 46ms/step\n",
            "[[165.20486]]\n",
            "1/1 [==============================] - 0s 35ms/step\n",
            "[[165.17703]]\n",
            "1/1 [==============================] - 0s 53ms/step\n",
            "[[165.16612]]\n",
            "1/1 [==============================] - 0s 40ms/step\n",
            "[[165.16183]]\n",
            "1/1 [==============================] - 0s 42ms/step\n",
            "[[165.16016]]\n",
            "1/1 [==============================] - 0s 96ms/step\n",
            "[[165.15953]]\n",
            "1/1 [==============================] - 0s 71ms/step\n",
            "[[165.15927]]\n",
            "1/1 [==============================] - 0s 84ms/step\n",
            "[[165.15916]]\n",
            "1/1 [==============================] - 0s 91ms/step\n",
            "[[165.1591]]\n",
            "1/1 [==============================] - 0s 50ms/step\n",
            "[[165.15909]]\n",
            "[167.3313446  165.95053101 165.4606781  165.27622986 165.2048645\n",
            " 165.17703247 165.16612244 165.16183472 165.16015625 165.15953064\n",
            " 165.15927124 165.15916443 165.15910339 165.15908813]\n"
          ]
        }
      ]
    },
    {
      "cell_type": "markdown",
      "source": [],
      "metadata": {
        "id": "qWacBdpNWfWk"
      }
    },
    {
      "cell_type": "code",
      "source": [
        "import datetime\n",
        "from datetime import timedelta\n",
        "dicts = []\n",
        "curr_date = df.index[-1]\n",
        "for i in range(X_FUTURE):\n",
        "  curr_date = curr_date + timedelta(days=1)\n",
        "  dicts.append({'Predictions':predictions[i], \"Date\": curr_date})\n",
        "\n",
        "new_data = pd.DataFrame(dicts).set_index(\"Date\")\n",
        "new_data"
      ],
      "metadata": {
        "colab": {
          "base_uri": "https://localhost:8080/",
          "height": 1000
        },
        "id": "zxa6hSh9WfwX",
        "outputId": "f1ae33f3-5445-43e5-ae9c-db3453a94988"
      },
      "execution_count": 78,
      "outputs": [
        {
          "output_type": "execute_result",
          "data": {
            "text/plain": [
              "            Predictions\n",
              "Date                   \n",
              "2023-10-06   165.259094\n",
              "2023-10-07   165.043472\n",
              "2023-10-08   165.031021\n",
              "2023-10-09   165.028503\n",
              "2023-10-10   165.027115\n",
              "2023-10-11   165.026962\n",
              "2023-10-12   165.026947\n",
              "2023-10-13   165.026932\n",
              "2023-10-14   165.026932\n",
              "2023-10-15   165.026932\n",
              "2023-10-16   165.026932\n",
              "2023-10-17   165.026932\n",
              "2023-10-18   165.026932\n",
              "2023-10-19   165.026932\n",
              "2023-10-20   165.026932\n",
              "2023-10-21   165.026932\n",
              "2023-10-22   165.026932\n",
              "2023-10-23   165.026932\n",
              "2023-10-24   165.026932\n",
              "2023-10-25   165.026932\n",
              "2023-10-26   165.026932\n",
              "2023-10-27   165.026932\n",
              "2023-10-28   165.026932\n",
              "2023-10-29   165.026932\n",
              "2023-10-30   165.026932\n",
              "2023-10-31   165.026932\n",
              "2023-11-01   165.026932\n",
              "2023-11-02   165.026932\n",
              "2023-11-03   165.026932\n",
              "2023-11-04   165.026932"
            ],
            "text/html": [
              "\n",
              "  <div id=\"df-a52e0f99-b4bb-458d-8f6e-d03eabb72b4a\" class=\"colab-df-container\">\n",
              "    <div>\n",
              "<style scoped>\n",
              "    .dataframe tbody tr th:only-of-type {\n",
              "        vertical-align: middle;\n",
              "    }\n",
              "\n",
              "    .dataframe tbody tr th {\n",
              "        vertical-align: top;\n",
              "    }\n",
              "\n",
              "    .dataframe thead th {\n",
              "        text-align: right;\n",
              "    }\n",
              "</style>\n",
              "<table border=\"1\" class=\"dataframe\">\n",
              "  <thead>\n",
              "    <tr style=\"text-align: right;\">\n",
              "      <th></th>\n",
              "      <th>Predictions</th>\n",
              "    </tr>\n",
              "    <tr>\n",
              "      <th>Date</th>\n",
              "      <th></th>\n",
              "    </tr>\n",
              "  </thead>\n",
              "  <tbody>\n",
              "    <tr>\n",
              "      <th>2023-10-06</th>\n",
              "      <td>165.259094</td>\n",
              "    </tr>\n",
              "    <tr>\n",
              "      <th>2023-10-07</th>\n",
              "      <td>165.043472</td>\n",
              "    </tr>\n",
              "    <tr>\n",
              "      <th>2023-10-08</th>\n",
              "      <td>165.031021</td>\n",
              "    </tr>\n",
              "    <tr>\n",
              "      <th>2023-10-09</th>\n",
              "      <td>165.028503</td>\n",
              "    </tr>\n",
              "    <tr>\n",
              "      <th>2023-10-10</th>\n",
              "      <td>165.027115</td>\n",
              "    </tr>\n",
              "    <tr>\n",
              "      <th>2023-10-11</th>\n",
              "      <td>165.026962</td>\n",
              "    </tr>\n",
              "    <tr>\n",
              "      <th>2023-10-12</th>\n",
              "      <td>165.026947</td>\n",
              "    </tr>\n",
              "    <tr>\n",
              "      <th>2023-10-13</th>\n",
              "      <td>165.026932</td>\n",
              "    </tr>\n",
              "    <tr>\n",
              "      <th>2023-10-14</th>\n",
              "      <td>165.026932</td>\n",
              "    </tr>\n",
              "    <tr>\n",
              "      <th>2023-10-15</th>\n",
              "      <td>165.026932</td>\n",
              "    </tr>\n",
              "    <tr>\n",
              "      <th>2023-10-16</th>\n",
              "      <td>165.026932</td>\n",
              "    </tr>\n",
              "    <tr>\n",
              "      <th>2023-10-17</th>\n",
              "      <td>165.026932</td>\n",
              "    </tr>\n",
              "    <tr>\n",
              "      <th>2023-10-18</th>\n",
              "      <td>165.026932</td>\n",
              "    </tr>\n",
              "    <tr>\n",
              "      <th>2023-10-19</th>\n",
              "      <td>165.026932</td>\n",
              "    </tr>\n",
              "    <tr>\n",
              "      <th>2023-10-20</th>\n",
              "      <td>165.026932</td>\n",
              "    </tr>\n",
              "    <tr>\n",
              "      <th>2023-10-21</th>\n",
              "      <td>165.026932</td>\n",
              "    </tr>\n",
              "    <tr>\n",
              "      <th>2023-10-22</th>\n",
              "      <td>165.026932</td>\n",
              "    </tr>\n",
              "    <tr>\n",
              "      <th>2023-10-23</th>\n",
              "      <td>165.026932</td>\n",
              "    </tr>\n",
              "    <tr>\n",
              "      <th>2023-10-24</th>\n",
              "      <td>165.026932</td>\n",
              "    </tr>\n",
              "    <tr>\n",
              "      <th>2023-10-25</th>\n",
              "      <td>165.026932</td>\n",
              "    </tr>\n",
              "    <tr>\n",
              "      <th>2023-10-26</th>\n",
              "      <td>165.026932</td>\n",
              "    </tr>\n",
              "    <tr>\n",
              "      <th>2023-10-27</th>\n",
              "      <td>165.026932</td>\n",
              "    </tr>\n",
              "    <tr>\n",
              "      <th>2023-10-28</th>\n",
              "      <td>165.026932</td>\n",
              "    </tr>\n",
              "    <tr>\n",
              "      <th>2023-10-29</th>\n",
              "      <td>165.026932</td>\n",
              "    </tr>\n",
              "    <tr>\n",
              "      <th>2023-10-30</th>\n",
              "      <td>165.026932</td>\n",
              "    </tr>\n",
              "    <tr>\n",
              "      <th>2023-10-31</th>\n",
              "      <td>165.026932</td>\n",
              "    </tr>\n",
              "    <tr>\n",
              "      <th>2023-11-01</th>\n",
              "      <td>165.026932</td>\n",
              "    </tr>\n",
              "    <tr>\n",
              "      <th>2023-11-02</th>\n",
              "      <td>165.026932</td>\n",
              "    </tr>\n",
              "    <tr>\n",
              "      <th>2023-11-03</th>\n",
              "      <td>165.026932</td>\n",
              "    </tr>\n",
              "    <tr>\n",
              "      <th>2023-11-04</th>\n",
              "      <td>165.026932</td>\n",
              "    </tr>\n",
              "  </tbody>\n",
              "</table>\n",
              "</div>\n",
              "    <div class=\"colab-df-buttons\">\n",
              "\n",
              "  <div class=\"colab-df-container\">\n",
              "    <button class=\"colab-df-convert\" onclick=\"convertToInteractive('df-a52e0f99-b4bb-458d-8f6e-d03eabb72b4a')\"\n",
              "            title=\"Convert this dataframe to an interactive table.\"\n",
              "            style=\"display:none;\">\n",
              "\n",
              "  <svg xmlns=\"http://www.w3.org/2000/svg\" height=\"24px\" viewBox=\"0 -960 960 960\">\n",
              "    <path d=\"M120-120v-720h720v720H120Zm60-500h600v-160H180v160Zm220 220h160v-160H400v160Zm0 220h160v-160H400v160ZM180-400h160v-160H180v160Zm440 0h160v-160H620v160ZM180-180h160v-160H180v160Zm440 0h160v-160H620v160Z\"/>\n",
              "  </svg>\n",
              "    </button>\n",
              "\n",
              "  <style>\n",
              "    .colab-df-container {\n",
              "      display:flex;\n",
              "      gap: 12px;\n",
              "    }\n",
              "\n",
              "    .colab-df-convert {\n",
              "      background-color: #E8F0FE;\n",
              "      border: none;\n",
              "      border-radius: 50%;\n",
              "      cursor: pointer;\n",
              "      display: none;\n",
              "      fill: #1967D2;\n",
              "      height: 32px;\n",
              "      padding: 0 0 0 0;\n",
              "      width: 32px;\n",
              "    }\n",
              "\n",
              "    .colab-df-convert:hover {\n",
              "      background-color: #E2EBFA;\n",
              "      box-shadow: 0px 1px 2px rgba(60, 64, 67, 0.3), 0px 1px 3px 1px rgba(60, 64, 67, 0.15);\n",
              "      fill: #174EA6;\n",
              "    }\n",
              "\n",
              "    .colab-df-buttons div {\n",
              "      margin-bottom: 4px;\n",
              "    }\n",
              "\n",
              "    [theme=dark] .colab-df-convert {\n",
              "      background-color: #3B4455;\n",
              "      fill: #D2E3FC;\n",
              "    }\n",
              "\n",
              "    [theme=dark] .colab-df-convert:hover {\n",
              "      background-color: #434B5C;\n",
              "      box-shadow: 0px 1px 3px 1px rgba(0, 0, 0, 0.15);\n",
              "      filter: drop-shadow(0px 1px 2px rgba(0, 0, 0, 0.3));\n",
              "      fill: #FFFFFF;\n",
              "    }\n",
              "  </style>\n",
              "\n",
              "    <script>\n",
              "      const buttonEl =\n",
              "        document.querySelector('#df-a52e0f99-b4bb-458d-8f6e-d03eabb72b4a button.colab-df-convert');\n",
              "      buttonEl.style.display =\n",
              "        google.colab.kernel.accessAllowed ? 'block' : 'none';\n",
              "\n",
              "      async function convertToInteractive(key) {\n",
              "        const element = document.querySelector('#df-a52e0f99-b4bb-458d-8f6e-d03eabb72b4a');\n",
              "        const dataTable =\n",
              "          await google.colab.kernel.invokeFunction('convertToInteractive',\n",
              "                                                    [key], {});\n",
              "        if (!dataTable) return;\n",
              "\n",
              "        const docLinkHtml = 'Like what you see? Visit the ' +\n",
              "          '<a target=\"_blank\" href=https://colab.research.google.com/notebooks/data_table.ipynb>data table notebook</a>'\n",
              "          + ' to learn more about interactive tables.';\n",
              "        element.innerHTML = '';\n",
              "        dataTable['output_type'] = 'display_data';\n",
              "        await google.colab.output.renderOutput(dataTable, element);\n",
              "        const docLink = document.createElement('div');\n",
              "        docLink.innerHTML = docLinkHtml;\n",
              "        element.appendChild(docLink);\n",
              "      }\n",
              "    </script>\n",
              "  </div>\n",
              "\n",
              "\n",
              "<div id=\"df-96417eca-9711-4029-bc4b-2013d01c66ef\">\n",
              "  <button class=\"colab-df-quickchart\" onclick=\"quickchart('df-96417eca-9711-4029-bc4b-2013d01c66ef')\"\n",
              "            title=\"Suggest charts.\"\n",
              "            style=\"display:none;\">\n",
              "\n",
              "<svg xmlns=\"http://www.w3.org/2000/svg\" height=\"24px\"viewBox=\"0 0 24 24\"\n",
              "     width=\"24px\">\n",
              "    <g>\n",
              "        <path d=\"M19 3H5c-1.1 0-2 .9-2 2v14c0 1.1.9 2 2 2h14c1.1 0 2-.9 2-2V5c0-1.1-.9-2-2-2zM9 17H7v-7h2v7zm4 0h-2V7h2v10zm4 0h-2v-4h2v4z\"/>\n",
              "    </g>\n",
              "</svg>\n",
              "  </button>\n",
              "\n",
              "<style>\n",
              "  .colab-df-quickchart {\n",
              "      --bg-color: #E8F0FE;\n",
              "      --fill-color: #1967D2;\n",
              "      --hover-bg-color: #E2EBFA;\n",
              "      --hover-fill-color: #174EA6;\n",
              "      --disabled-fill-color: #AAA;\n",
              "      --disabled-bg-color: #DDD;\n",
              "  }\n",
              "\n",
              "  [theme=dark] .colab-df-quickchart {\n",
              "      --bg-color: #3B4455;\n",
              "      --fill-color: #D2E3FC;\n",
              "      --hover-bg-color: #434B5C;\n",
              "      --hover-fill-color: #FFFFFF;\n",
              "      --disabled-bg-color: #3B4455;\n",
              "      --disabled-fill-color: #666;\n",
              "  }\n",
              "\n",
              "  .colab-df-quickchart {\n",
              "    background-color: var(--bg-color);\n",
              "    border: none;\n",
              "    border-radius: 50%;\n",
              "    cursor: pointer;\n",
              "    display: none;\n",
              "    fill: var(--fill-color);\n",
              "    height: 32px;\n",
              "    padding: 0;\n",
              "    width: 32px;\n",
              "  }\n",
              "\n",
              "  .colab-df-quickchart:hover {\n",
              "    background-color: var(--hover-bg-color);\n",
              "    box-shadow: 0 1px 2px rgba(60, 64, 67, 0.3), 0 1px 3px 1px rgba(60, 64, 67, 0.15);\n",
              "    fill: var(--button-hover-fill-color);\n",
              "  }\n",
              "\n",
              "  .colab-df-quickchart-complete:disabled,\n",
              "  .colab-df-quickchart-complete:disabled:hover {\n",
              "    background-color: var(--disabled-bg-color);\n",
              "    fill: var(--disabled-fill-color);\n",
              "    box-shadow: none;\n",
              "  }\n",
              "\n",
              "  .colab-df-spinner {\n",
              "    border: 2px solid var(--fill-color);\n",
              "    border-color: transparent;\n",
              "    border-bottom-color: var(--fill-color);\n",
              "    animation:\n",
              "      spin 1s steps(1) infinite;\n",
              "  }\n",
              "\n",
              "  @keyframes spin {\n",
              "    0% {\n",
              "      border-color: transparent;\n",
              "      border-bottom-color: var(--fill-color);\n",
              "      border-left-color: var(--fill-color);\n",
              "    }\n",
              "    20% {\n",
              "      border-color: transparent;\n",
              "      border-left-color: var(--fill-color);\n",
              "      border-top-color: var(--fill-color);\n",
              "    }\n",
              "    30% {\n",
              "      border-color: transparent;\n",
              "      border-left-color: var(--fill-color);\n",
              "      border-top-color: var(--fill-color);\n",
              "      border-right-color: var(--fill-color);\n",
              "    }\n",
              "    40% {\n",
              "      border-color: transparent;\n",
              "      border-right-color: var(--fill-color);\n",
              "      border-top-color: var(--fill-color);\n",
              "    }\n",
              "    60% {\n",
              "      border-color: transparent;\n",
              "      border-right-color: var(--fill-color);\n",
              "    }\n",
              "    80% {\n",
              "      border-color: transparent;\n",
              "      border-right-color: var(--fill-color);\n",
              "      border-bottom-color: var(--fill-color);\n",
              "    }\n",
              "    90% {\n",
              "      border-color: transparent;\n",
              "      border-bottom-color: var(--fill-color);\n",
              "    }\n",
              "  }\n",
              "</style>\n",
              "\n",
              "  <script>\n",
              "    async function quickchart(key) {\n",
              "      const quickchartButtonEl =\n",
              "        document.querySelector('#' + key + ' button');\n",
              "      quickchartButtonEl.disabled = true;  // To prevent multiple clicks.\n",
              "      quickchartButtonEl.classList.add('colab-df-spinner');\n",
              "      try {\n",
              "        const charts = await google.colab.kernel.invokeFunction(\n",
              "            'suggestCharts', [key], {});\n",
              "      } catch (error) {\n",
              "        console.error('Error during call to suggestCharts:', error);\n",
              "      }\n",
              "      quickchartButtonEl.classList.remove('colab-df-spinner');\n",
              "      quickchartButtonEl.classList.add('colab-df-quickchart-complete');\n",
              "    }\n",
              "    (() => {\n",
              "      let quickchartButtonEl =\n",
              "        document.querySelector('#df-96417eca-9711-4029-bc4b-2013d01c66ef button');\n",
              "      quickchartButtonEl.style.display =\n",
              "        google.colab.kernel.accessAllowed ? 'block' : 'none';\n",
              "    })();\n",
              "  </script>\n",
              "</div>\n",
              "    </div>\n",
              "  </div>\n"
            ]
          },
          "metadata": {},
          "execution_count": 78
        }
      ]
    }
  ]
}